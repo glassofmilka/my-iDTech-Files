{
 "cells": [
  {
   "cell_type": "markdown",
   "metadata": {
    "id": "CBsmsygg6Ea2"
   },
   "source": [
    "# NumPy\n",
    "In Python, programmers use NumPy to perform array operations. Arrays are very similar to lists. However, arrays are more efficient when storing a large number of data."
   ]
  },
  {
   "cell_type": "code",
   "execution_count": 4,
   "metadata": {
    "id": "qI-1H_Bq5hvQ"
   },
   "outputs": [],
   "source": [
    "# Import the numpy library.\n",
    "import numpy as np"
   ]
  },
  {
   "cell_type": "code",
   "execution_count": 7,
   "metadata": {
    "id": "TyRAHjNh-wYm"
   },
   "outputs": [
    {
     "name": "stdout",
     "output_type": "stream",
     "text": [
      "[[1 2 3 4]\n",
      " [5 6 7 8]]\n"
     ]
    }
   ],
   "source": [
    "# Create an array using NumPy.\n",
    "numbers_array = np.array([[1,2,3,4],[5,6,7,8]])\n",
    "print(numbers_array)"
   ]
  },
  {
   "cell_type": "markdown",
   "metadata": {
    "id": "CME4i2OLCK3O"
   },
   "source": [
    "# Array Shape\n",
    "In Python programming, the size of a NumPy array is called shape. Understanding the shape of an array is important for some functions you'll use for machine learning."
   ]
  },
  {
   "cell_type": "code",
   "execution_count": 8,
   "metadata": {
    "id": "aBBfAArOCQXI"
   },
   "outputs": [
    {
     "name": "stdout",
     "output_type": "stream",
     "text": [
      "(2, 4)\n"
     ]
    }
   ],
   "source": [
    "# Print the shape of numbers_array.\n",
    "print(numbers_array.shape)"
   ]
  },
  {
   "cell_type": "markdown",
   "metadata": {
    "id": "Fxmf89hfCuPt"
   },
   "source": [
    "# Multidimensional Arrays\n",
    "While in the example numbers_array is a one-dimensional array, a NumPy array can also be multidimensional."
   ]
  },
  {
   "cell_type": "code",
   "execution_count": null,
   "metadata": {
    "id": "uxEKi-FHC-Ul"
   },
   "outputs": [],
   "source": [
    "# Add another set of values to numbers_array  that range from 5 to 8.\n"
   ]
  }
 ],
 "metadata": {
  "colab": {
   "provenance": [],
   "toc_visible": true
  },
  "kernelspec": {
   "display_name": "Python 3 (ipykernel)",
   "language": "python",
   "name": "python3"
  },
  "language_info": {
   "codemirror_mode": {
    "name": "ipython",
    "version": 3
   },
   "file_extension": ".py",
   "mimetype": "text/x-python",
   "name": "python",
   "nbconvert_exporter": "python",
   "pygments_lexer": "ipython3",
   "version": "3.10.0"
  }
 },
 "nbformat": 4,
 "nbformat_minor": 4
}
