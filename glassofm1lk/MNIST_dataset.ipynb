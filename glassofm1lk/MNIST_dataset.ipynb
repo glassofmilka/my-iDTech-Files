{
 "cells": [
  {
   "cell_type": "markdown",
   "metadata": {
    "id": "09ZYscF9nFLC"
   },
   "source": [
    "# Image Recognition\n",
    "In this notebook, you will create a convolutional neural network to classify images in MNIST dataset."
   ]
  },
  {
   "cell_type": "code",
   "execution_count": 83,
   "metadata": {
    "id": "wP0a9UIVnBWU"
   },
   "outputs": [],
   "source": [
    "# Import TensorFlow and Keras to create the neural network\n",
    "import tensorflow as tf\n",
    "from tensorflow import keras\n",
    "\n",
    "from tensorflow.keras.datasets import mnist\n",
    "from tensorflow.keras import backend as K\n",
    "import numpy as np\n",
    "\n",
    "# Matplotlib to plot info to show the results\n",
    "import matplotlib.pyplot as plt\n",
    "%matplotlib inline\n"
   ]
  },
  {
   "cell_type": "markdown",
   "metadata": {
    "id": "sN0CYaPpo_LO"
   },
   "source": [
    "# Preparing the MNIST data\n",
    "\n",
    "You'll write the code to load the MNIST data from the files, and add the code that processes it into a format your neural network can use."
   ]
  },
  {
   "cell_type": "markdown",
   "metadata": {
    "id": "nWpRhgJlBy9t"
   },
   "source": [
    "## Load the Data"
   ]
  },
  {
   "cell_type": "code",
   "execution_count": 84,
   "metadata": {
    "id": "M3n3zsd-9crr"
   },
   "outputs": [],
   "source": [
    "# Load the MNIST Data\n",
    "def show_min_max(array, i): \n",
    "    random_image = array[i]\n",
    "    print(\"min and max value in image: \", random_image.min(), random_image.max())"
   ]
  },
  {
   "cell_type": "code",
   "execution_count": 85,
   "metadata": {
    "id": "e22svQw9_DCo"
   },
   "outputs": [],
   "source": [
    "# Create a function that will plot a image from the dataset and display the digit label.\n",
    "def plot_image(array, i, labels):\n",
    "    plt.imshow(np.squeeze(array[i]))\n",
    "    plt.title(\" Digit \" + str(labels[i]))\n",
    "    plt.xticks([])\n",
    "    plt.yticks([])\n",
    "    plt.show()"
   ]
  },
  {
   "cell_type": "code",
   "execution_count": 86,
   "metadata": {
    "id": "w8At-Ixr_qgF"
   },
   "outputs": [],
   "source": [
    "# Create variables for the image row and column to keep track of your image size.\n",
    "img_rows, img_cols = 28, 28\n",
    "\n",
    "\n",
    "# Create a variable called num_classes and set the value to 10 output classes.\n",
    "num_classes = 10"
   ]
  },
  {
   "cell_type": "code",
   "execution_count": 87,
   "metadata": {
    "id": "b1cuJIMCAFKy"
   },
   "outputs": [
    {
     "name": "stdout",
     "output_type": "stream",
     "text": [
      "(60000, 28, 28)\n",
      "(10000, 28, 28)\n"
     ]
    }
   ],
   "source": [
    "# Load the data to train and test the model, as well as the labels to test the data against.\n",
    "(train_images, train_labels), (test_images, test_labels) = mnist.load_data() \n",
    "\n",
    "# Load a backup copy of the untouched data, while the first copy will be processing the data and manipulating it.\n",
    "(train_images_backup, train_labels_backup), (test_images_backup, test_labels_backup) = mnist.load_data()\n",
    "\n",
    "# Print the shape of the training image dataset.\n",
    "print(train_images.shape)\n",
    "\n",
    "# Print the shape of the test image dataset.\n",
    "print(test_images.shape)"
   ]
  },
  {
   "cell_type": "markdown",
   "metadata": {
    "id": "D_mXbfPzCgT1"
   },
   "source": [
    "# Sorting through the Data\n",
    "\n",
    "Data can be formatted in many different ways. However, since the MNIST data is already so well prepared for machine learning applications, there is only a little reshaping or preparation that needs to go into it."
   ]
  },
  {
   "cell_type": "markdown",
   "metadata": {
    "id": "f_6skqF0CqIA"
   },
   "source": [
    "## Data Formatting\n"
   ]
  },
  {
   "cell_type": "code",
   "execution_count": 88,
   "metadata": {
    "id": "8s6JxeSsCubo"
   },
   "outputs": [],
   "source": [
    "# Reshape the training data by converting the list of pixels into a 28x28 grid.\n",
    "train_images = train_images.reshape(train_images.shape[0],  img_rows, img_cols, 1)\n",
    "\n",
    "# Reshape the test data by converting the list of pixels into a 28x28 grid.\n",
    "test_images = test_images.reshape(test_images.shape[0],  img_rows, img_cols, 1)\n",
    "\n",
    "# Create an input_shape variable to keep track of the data's shape.\n",
    "input_shape = (img_rows, img_cols, 1)"
   ]
  },
  {
   "cell_type": "markdown",
   "metadata": {
    "id": "P_MKaRnDDawM"
   },
   "source": [
    "## Data Cleaning"
   ]
  },
  {
   "cell_type": "code",
   "execution_count": 89,
   "metadata": {
    "id": "8H4dgrfTDfBt"
   },
   "outputs": [
    {
     "data": {
      "image/png": "[encoded data removed]",
      "text/plain": [
       "<Figure size 640x480 with 1 Axes>"
      ]
     },
     "metadata": {},
     "output_type": "display_data"
    },
    {
     "name": "stdout",
     "output_type": "stream",
     "text": [
      "min and max value in image:  0 255\n"
     ]
    },
    {
     "data": {
      "image/png": "[encoded data removed]",
      "text/plain": [
       "<Figure size 640x480 with 1 Axes>"
      ]
     },
     "metadata": {},
     "output_type": "display_data"
    },
    {
     "name": "stdout",
     "output_type": "stream",
     "text": [
      "min and max value in image:  0.0 1.0\n"
     ]
    }
   ],
   "source": [
    "# Call the plot_image function to print out the 100th image in train_images.\n",
    "plot_image(train_images, 100, train_labels)\n",
    "\n",
    "# Call the show_min_max function to print the min and max values of the image.\n",
    "show_min_max(train_images, 100)\n",
    "\n",
    "# Change the image values to between 0 and 1, convert that training data into float32.\n",
    "train_images = train_images.astype('float32')\n",
    "\n",
    "# Change the image values to between 0 and 1, convert that test data into float32.\n",
    "test_images = test_images.astype('float32')\n",
    "\n",
    "# Divide the images by 255 to make sure that each pixel is stored as a value between 0 and 1.\n",
    "train_images /= 255\n",
    "test_images /= 255\n",
    "\n",
    "# Call the plot_image function to print out the 100th image in train_images.\n",
    "plot_image(train_images, 100, train_labels)\n",
    "\n",
    "# Call the show_min_max function to print the min and max values of the image.\n",
    "show_min_max(train_images, 100)"
   ]
  },
  {
   "cell_type": "markdown",
   "metadata": {
    "id": "ZsHlE17nGl4L"
   },
   "source": [
    "## One-Hot Encoding"
   ]
  },
  {
   "cell_type": "code",
   "execution_count": 90,
   "metadata": {
    "id": "MTEEbBoaGmrw"
   },
   "outputs": [],
   "source": [
    "# Employ one-hot encoding on your training labels.\n",
    "train_labels = keras.utils.to_categorical(train_labels, num_classes)\n",
    "# Employ one-hot encoding on your test labels.\n",
    "test_labels = keras.utils.to_categorical(test_labels, num_classes)"
   ]
  },
  {
   "cell_type": "markdown",
   "metadata": {
    "id": "XanzYyhqIceK"
   },
   "source": [
    "# Building the Network\n",
    "Neural networks learn to accomplish their tasks by reading training data and adjusting their neuron weights to improve their chance of choosing the correct answer."
   ]
  },
  {
   "cell_type": "markdown",
   "metadata": {
    "id": "_4eeuJgwIm94"
   },
   "source": [
    "## Import Model and Layers"
   ]
  },
  {
   "cell_type": "code",
   "execution_count": 91,
   "metadata": {
    "id": "RLsacdUqIhio"
   },
   "outputs": [],
   "source": [
    "# Import the Sequential model.\n",
    "from tensorflow.keras.models import Sequential\n",
    "\n",
    "# Import the Dense and Flatten layers.\n",
    "from tensorflow.keras.layers import Dense, Flatten"
   ]
  },
  {
   "cell_type": "markdown",
   "metadata": {
    "id": "M3_FRvX5IzWU"
   },
   "source": [
    "## Epochs and Model Layers\n"
   ]
  },
  {
   "cell_type": "code",
   "execution_count": 92,
   "metadata": {
    "id": "xRWFzpeGJBEk"
   },
   "outputs": [
    {
     "name": "stdout",
     "output_type": "stream",
     "text": [
      "Model: \"sequential_2\"\n",
      "_________________________________________________________________\n",
      " Layer (type)                Output Shape              Param #   \n",
      "=================================================================\n",
      " flatten_2 (Flatten)         (None, 784)               0         \n",
      "                                                                 \n",
      " dense_4 (Dense)             (None, 16)                12560     \n",
      "                                                                 \n",
      " dense_5 (Dense)             (None, 10)                170       \n",
      "                                                                 \n",
      "=================================================================\n",
      "Total params: 12730 (49.73 KB)\n",
      "Trainable params: 12730 (49.73 KB)\n",
      "Non-trainable params: 0 (0.00 Byte)\n",
      "_________________________________________________________________\n"
     ]
    }
   ],
   "source": [
    "# Create a variable called epochs and set the value as 10.\n",
    "epochs = 10\n",
    "\n",
    "# Create a new model object using the Keras Sequential.\n",
    "model = Sequential()\n",
    "\n",
    "# Add a Flatten layer and pass the input shape as an argument.\n",
    "model.add(Flatten(input_shape=input_shape))\n",
    "\n",
    "# Add a Dense layer to your network with the size of the layers in neurons and relu as the activation function.\n",
    "model.add(Dense(16, activation = \"relu\"))\n",
    "\n",
    "# Add an output layer.\n",
    "model.add(Dense(10, activation='softmax'))\n",
    "\n",
    "# Print a summary of your network so far.\n",
    "model.summary()"
   ]
  },
  {
   "cell_type": "markdown",
   "metadata": {
    "id": "ldmLMHqRLFbE"
   },
   "source": [
    "# Training the Network\n",
    "TensorFlow has a command that will do a lot of the work for you, but you still need to set up a few arguments so that this network is compiled in a useful way."
   ]
  },
  {
   "cell_type": "markdown",
   "metadata": {
    "id": "bQwwYekXLLRh"
   },
   "source": [
    "## Compile the Network"
   ]
  },
  {
   "cell_type": "code",
   "execution_count": 93,
   "metadata": {
    "id": "75V8MJfbLJ5N"
   },
   "outputs": [
    {
     "name": "stdout",
     "output_type": "stream",
     "text": [
      "WARNING:tensorflow:From C:\\Users\\Student\\AppData\\Local\\Programs\\Python\\Python310\\lib\\site-packages\\keras\\src\\optimizers\\__init__.py:309: The name tf.train.Optimizer is deprecated. Please use tf.compat.v1.train.Optimizer instead.\n",
      "\n"
     ]
    }
   ],
   "source": [
    "# Add the compile function that calculates the loss and uses the optimizer parameter to set the optimization algorithm.\n",
    "model.compile(loss='categorical_crossentropy', optimizer='adam', metrics=['accuracy'])\n"
   ]
  },
  {
   "cell_type": "markdown",
   "metadata": {
    "id": "ichoNcbPLvNi"
   },
   "source": [
    "## Training"
   ]
  },
  {
   "cell_type": "code",
   "execution_count": 94,
   "metadata": {
    "id": "g5i4WUsFLwIy"
   },
   "outputs": [
    {
     "name": "stdout",
     "output_type": "stream",
     "text": [
      "Epoch 1/10\n",
      "WARNING:tensorflow:From C:\\Users\\Student\\AppData\\Local\\Programs\\Python\\Python310\\lib\\site-packages\\keras\\src\\utils\\tf_utils.py:492: The name tf.ragged.RaggedTensorValue is deprecated. Please use tf.compat.v1.ragged.RaggedTensorValue instead.\n",
      "\n",
      "WARNING:tensorflow:From C:\\Users\\Student\\AppData\\Local\\Programs\\Python\\Python310\\lib\\site-packages\\keras\\src\\engine\\base_layer_utils.py:384: The name tf.executing_eagerly_outside_functions is deprecated. Please use tf.compat.v1.executing_eagerly_outside_functions instead.\n",
      "\n",
      "1875/1875 [==============================] - 4s 2ms/step - loss: 0.4496 - accuracy: 0.8747\n",
      "Epoch 2/10\n",
      "1875/1875 [==============================] - 3s 2ms/step - loss: 0.2482 - accuracy: 0.9290\n",
      "Epoch 3/10\n",
      "1875/1875 [==============================] - 3s 2ms/step - loss: 0.2111 - accuracy: 0.9387\n",
      "Epoch 4/10\n",
      "1875/1875 [==============================] - 3s 2ms/step - loss: 0.1896 - accuracy: 0.9446\n",
      "Epoch 5/10\n",
      "1875/1875 [==============================] - 3s 2ms/step - loss: 0.1756 - accuracy: 0.9487\n",
      "Epoch 6/10\n",
      "1875/1875 [==============================] - 3s 2ms/step - loss: 0.1656 - accuracy: 0.9511\n",
      "Epoch 7/10\n",
      "1875/1875 [==============================] - 3s 2ms/step - loss: 0.1580 - accuracy: 0.9531\n",
      "Epoch 8/10\n",
      "1875/1875 [==============================] - 3s 2ms/step - loss: 0.1513 - accuracy: 0.9546\n",
      "Epoch 9/10\n",
      "1875/1875 [==============================] - 3s 2ms/step - loss: 0.1451 - accuracy: 0.9572\n",
      "Epoch 10/10\n",
      "1875/1875 [==============================] - 3s 2ms/step - loss: 0.1398 - accuracy: 0.9583\n"
     ]
    },
    {
     "data": {
      "text/plain": [
       "<keras.src.callbacks.History at 0x1961a7cf520>"
      ]
     },
     "execution_count": 94,
     "metadata": {},
     "output_type": "execute_result"
    }
   ],
   "source": [
    "# Add the fit function and set the input data for the model so the network doesn't rely on a pattern to learn.\n",
    "model.fit(train_images, train_labels, epochs=epochs, shuffle=True)"
   ]
  },
  {
   "cell_type": "markdown",
   "metadata": {
    "id": "RtCk_-PUL3j8"
   },
   "source": [
    "## Analyzing the Output"
   ]
  },
  {
   "cell_type": "code",
   "execution_count": 95,
   "metadata": {
    "id": "-QlE5OzyL4YA"
   },
   "outputs": [
    {
     "name": "stdout",
     "output_type": "stream",
     "text": [
      "313/313 - 1s - loss: 0.1651 - accuracy: 0.9535 - 557ms/epoch - 2ms/step\n",
      "\n",
      "Test accuracy: 0.953499972820282\n"
     ]
    }
   ],
   "source": [
    "# Calculate the loss and accuracy of your model.\n",
    "test_loss, test_acc = model.evaluate(test_images, test_labels, verbose=2)\n",
    "\n",
    "# Print out the test accuracy.\n",
    "print('\\nTest accuracy:', test_acc)"
   ]
  },
  {
   "cell_type": "markdown",
   "metadata": {
    "id": "ZN-OucAVMOxG"
   },
   "source": [
    "## Exporting the Model"
   ]
  },
  {
   "cell_type": "code",
   "execution_count": 96,
   "metadata": {
    "id": "2egXOIbgMQBC"
   },
   "outputs": [
    {
     "name": "stderr",
     "output_type": "stream",
     "text": [
      "C:\\Users\\Student\\AppData\\Local\\Programs\\Python\\Python310\\lib\\site-packages\\keras\\src\\engine\\training.py:3103: UserWarning: You are saving your model as an HDF5 file via `model.save()`. This file format is considered legacy. We recommend using instead the native Keras format, e.g. `model.save('my_model.keras')`.\n",
      "  saving_api.save_model(\n"
     ]
    }
   ],
   "source": [
    "# Export your model\n",
    "model.save('my_model.h5')"
   ]
  },
  {
   "cell_type": "code",
   "execution_count": null,
   "metadata": {},
   "outputs": [],
   "source": []
  }
 ],
 "metadata": {
  "colab": {
   "provenance": []
  },
  "kernelspec": {
   "display_name": "Python 3 (ipykernel)",
   "language": "python",
   "name": "python3"
  },
  "language_info": {
   "codemirror_mode": {
    "name": "ipython",
    "version": 3
   },
   "file_extension": ".py",
   "mimetype": "text/x-python",
   "name": "python",
   "nbconvert_exporter": "python",
   "pygments_lexer": "ipython3",
   "version": "3.10.0"
  }
 },
 "nbformat": 4,
 "nbformat_minor": 4
}
