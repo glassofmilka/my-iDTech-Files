{
 "cells": [
  {
   "cell_type": "code",
   "execution_count": 22,
   "id": "14d6c334-7863-4d57-891e-e92a7527983e",
   "metadata": {},
   "outputs": [],
   "source": [
    "import pandas as pd\n",
    "breast_cancer_data = pd.read_csv(\"https://raw.githubusercontent.com/glassofmilka/my-iDTech-Files/main/glassofm1lk/Breast_cancer_data.csv\")"
   ]
  },
  {
   "cell_type": "code",
   "execution_count": 23,
   "id": "fd8866b8-35eb-4515-b5c8-e4dba0d07660",
   "metadata": {},
   "outputs": [],
   "source": [
    "import tensorflow as tf\n",
    "from tensorflow import keras\n",
    "\n",
    "from tensorflow.keras.datasets import mnist\n",
    "from tensorflow.keras import backend as K\n",
    "\n",
    "import numpy as np\n",
    "import matplotlib.pyplot as plt\n",
    "%matplotlib inline"
   ]
  },
  {
   "cell_type": "code",
   "execution_count": 24,
   "id": "54089501-fea2-4e29-8e52-79bd4a47ea81",
   "metadata": {},
   "outputs": [],
   "source": [
    "breast_cancer_data = breast_cancer_data.to_numpy()"
   ]
  },
  {
   "cell_type": "code",
   "execution_count": 25,
   "id": "f031d2ee-4c75-4ee4-9fb4-2a9374cff45e",
   "metadata": {},
   "outputs": [
    {
     "data": {
      "text/plain": [
       "(569, 6)"
      ]
     },
     "execution_count": 25,
     "metadata": {},
     "output_type": "execute_result"
    }
   ],
   "source": [
    "breast_cancer_data.shape"
   ]
  },
  {
   "cell_type": "code",
   "execution_count": 26,
   "id": "5a11626b-8fb7-4df2-83a4-ece28c7ffd28",
   "metadata": {},
   "outputs": [],
   "source": [
    "training_data = breast_cancer_data[:500]\n",
    "testing_data = breast_cancer_data[500:]"
   ]
  },
  {
   "cell_type": "code",
   "execution_count": 32,
   "id": "5712a712-35d2-420e-8f2c-b8f67676bf18",
   "metadata": {},
   "outputs": [
    {
     "name": "stdout",
     "output_type": "stream",
     "text": [
      "(500, 6)\n",
      "(69, 6)\n"
     ]
    }
   ],
   "source": [
    "print(training_data.shape)\n",
    "print(testing_data.shape)"
   ]
  },
  {
   "cell_type": "code",
   "execution_count": 34,
   "id": "ca31353a-5b1e-43b3-bd3b-5d250fef835a",
   "metadata": {},
   "outputs": [],
   "source": [
    "training_features = training_data[:, 0:-1]\n",
    "training_labels = training_data[:,-1]\n",
    "testing_features = testing_data[:, 0:-1]\n",
    "testing_labels = testing_data[:,-1]"
   ]
  },
  {
   "cell_type": "code",
   "execution_count": 42,
   "id": "26c989e1-5137-45cb-91fb-2aeba4db9c56",
   "metadata": {},
   "outputs": [
    {
     "name": "stdout",
     "output_type": "stream",
     "text": [
      "(500,)\n",
      "(500, 5)\n"
     ]
    }
   ],
   "source": [
    "print(training_labels.shape)\n",
    "print(training_features.shape)"
   ]
  },
  {
   "cell_type": "code",
   "execution_count": 43,
   "id": "2c6d01dd-6275-4cf5-9352-729cab6a06f3",
   "metadata": {},
   "outputs": [
    {
     "data": {
      "text/plain": [
       "(5,)"
      ]
     },
     "execution_count": 43,
     "metadata": {},
     "output_type": "execute_result"
    }
   ],
   "source": [
    "training_features[0].shape"
   ]
  },
  {
   "cell_type": "code",
   "execution_count": 45,
   "id": "8c24dc56-0ece-4b50-be9d-e939af7a10e6",
   "metadata": {},
   "outputs": [],
   "source": [
    "from tensorflow.keras.models import Sequential\n",
    "from tensorflow.keras.layers import Input, Dense, Dropout"
   ]
  },
  {
   "cell_type": "code",
   "execution_count": 46,
   "id": "0900847b-fc5a-4abb-8f7e-8224ca9db45f",
   "metadata": {},
   "outputs": [
    {
     "name": "stdout",
     "output_type": "stream",
     "text": [
      "WARNING:tensorflow:From C:\\Users\\Student\\AppData\\Local\\Programs\\Python\\Python310\\lib\\site-packages\\keras\\src\\backend.py:873: The name tf.get_default_graph is deprecated. Please use tf.compat.v1.get_default_graph instead.\n",
      "\n"
     ]
    }
   ],
   "source": [
    "cancer_predict_model = Sequential()\n",
    "cancer_predict_model.add(Input(shape = (5,)))\n",
    "cancer_predict_model.add(Dense(1, activation = \"relu\"))\n",
    "cancer_predict_model.add(Dropout(0.2))\n",
    "cancer_predict_model.add(Dense(5, activation = \"relu\"))\n",
    "cancer_predict_model.add(Dropout(0.2))\n",
    "cancer_predict_model.add(Dense(1, activation = \"sigmoid\"))"
   ]
  },
  {
   "cell_type": "code",
   "execution_count": 47,
   "id": "a4e5c363-df95-485a-93a3-17a34ddff9bf",
   "metadata": {},
   "outputs": [
    {
     "name": "stdout",
     "output_type": "stream",
     "text": [
      "WARNING:tensorflow:From C:\\Users\\Student\\AppData\\Local\\Programs\\Python\\Python310\\lib\\site-packages\\keras\\src\\optimizers\\__init__.py:309: The name tf.train.Optimizer is deprecated. Please use tf.compat.v1.train.Optimizer instead.\n",
      "\n"
     ]
    }
   ],
   "source": [
    "cancer_predict_model.compile(optimizer = \"sgd\", loss = \"binary_crossentropy\", metrics = ['accuracy'])"
   ]
  },
  {
   "cell_type": "code",
   "execution_count": 50,
   "id": "999a5032-8417-40b2-b66e-ff390e9c2229",
   "metadata": {},
   "outputs": [
    {
     "name": "stdout",
     "output_type": "stream",
     "text": [
      "Epoch 1/100\n",
      "16/16 [==============================] - 0s 11ms/step - loss: 0.6738 - accuracy: 0.6100 - val_loss: 0.6347 - val_accuracy: 0.7536\n",
      "Epoch 2/100\n",
      "16/16 [==============================] - 0s 6ms/step - loss: 0.6748 - accuracy: 0.6100 - val_loss: 0.6326 - val_accuracy: 0.7536\n",
      "Epoch 3/100\n",
      "16/16 [==============================] - 0s 5ms/step - loss: 0.6742 - accuracy: 0.6100 - val_loss: 0.6305 - val_accuracy: 0.7536\n",
      "Epoch 4/100\n",
      "16/16 [==============================] - 0s 6ms/step - loss: 0.6747 - accuracy: 0.6100 - val_loss: 0.6289 - val_accuracy: 0.7536\n",
      "Epoch 5/100\n",
      "16/16 [==============================] - 0s 6ms/step - loss: 0.6725 - accuracy: 0.6100 - val_loss: 0.6272 - val_accuracy: 0.7536\n",
      "Epoch 6/100\n",
      "16/16 [==============================] - 0s 6ms/step - loss: 0.6709 - accuracy: 0.6100 - val_loss: 0.6253 - val_accuracy: 0.7536\n",
      "Epoch 7/100\n",
      "16/16 [==============================] - 0s 5ms/step - loss: 0.6740 - accuracy: 0.6100 - val_loss: 0.6244 - val_accuracy: 0.7536\n",
      "Epoch 8/100\n",
      "16/16 [==============================] - 0s 5ms/step - loss: 0.6710 - accuracy: 0.6100 - val_loss: 0.6230 - val_accuracy: 0.7536\n",
      "Epoch 9/100\n",
      "16/16 [==============================] - 0s 6ms/step - loss: 0.6678 - accuracy: 0.6100 - val_loss: 0.6212 - val_accuracy: 0.7536\n",
      "Epoch 10/100\n",
      "16/16 [==============================] - 0s 4ms/step - loss: 0.6732 - accuracy: 0.6100 - val_loss: 0.6205 - val_accuracy: 0.7536\n",
      "Epoch 11/100\n",
      "16/16 [==============================] - 0s 4ms/step - loss: 0.6740 - accuracy: 0.6100 - val_loss: 0.6202 - val_accuracy: 0.7536\n",
      "Epoch 12/100\n",
      "16/16 [==============================] - 0s 5ms/step - loss: 0.6704 - accuracy: 0.6100 - val_loss: 0.6192 - val_accuracy: 0.7536\n",
      "Epoch 13/100\n",
      "16/16 [==============================] - 0s 5ms/step - loss: 0.6714 - accuracy: 0.6100 - val_loss: 0.6183 - val_accuracy: 0.7536\n",
      "Epoch 14/100\n",
      "16/16 [==============================] - 0s 4ms/step - loss: 0.6736 - accuracy: 0.6100 - val_loss: 0.6180 - val_accuracy: 0.7536\n",
      "Epoch 15/100\n",
      "16/16 [==============================] - 0s 5ms/step - loss: 0.6716 - accuracy: 0.6100 - val_loss: 0.6173 - val_accuracy: 0.7536\n",
      "Epoch 16/100\n",
      "16/16 [==============================] - 0s 5ms/step - loss: 0.6731 - accuracy: 0.6100 - val_loss: 0.6172 - val_accuracy: 0.7536\n",
      "Epoch 17/100\n",
      "16/16 [==============================] - 0s 6ms/step - loss: 0.6705 - accuracy: 0.6100 - val_loss: 0.6166 - val_accuracy: 0.7536\n",
      "Epoch 18/100\n",
      "16/16 [==============================] - 0s 5ms/step - loss: 0.6722 - accuracy: 0.6100 - val_loss: 0.6165 - val_accuracy: 0.7536\n",
      "Epoch 19/100\n",
      "16/16 [==============================] - 0s 5ms/step - loss: 0.6719 - accuracy: 0.6100 - val_loss: 0.6159 - val_accuracy: 0.7536\n",
      "Epoch 20/100\n",
      "16/16 [==============================] - 0s 5ms/step - loss: 0.6717 - accuracy: 0.6100 - val_loss: 0.6156 - val_accuracy: 0.7536\n",
      "Epoch 21/100\n",
      "16/16 [==============================] - 0s 5ms/step - loss: 0.6675 - accuracy: 0.6100 - val_loss: 0.6146 - val_accuracy: 0.7536\n",
      "Epoch 22/100\n",
      "16/16 [==============================] - 0s 5ms/step - loss: 0.6680 - accuracy: 0.6100 - val_loss: 0.6136 - val_accuracy: 0.7536\n",
      "Epoch 23/100\n",
      "16/16 [==============================] - 0s 5ms/step - loss: 0.6700 - accuracy: 0.6100 - val_loss: 0.6132 - val_accuracy: 0.7536\n",
      "Epoch 24/100\n",
      "16/16 [==============================] - 0s 6ms/step - loss: 0.6741 - accuracy: 0.6100 - val_loss: 0.6134 - val_accuracy: 0.7536\n",
      "Epoch 25/100\n",
      "16/16 [==============================] - 0s 5ms/step - loss: 0.6710 - accuracy: 0.6100 - val_loss: 0.6129 - val_accuracy: 0.7536\n",
      "Epoch 26/100\n",
      "16/16 [==============================] - 0s 5ms/step - loss: 0.6701 - accuracy: 0.6100 - val_loss: 0.6126 - val_accuracy: 0.7536\n",
      "Epoch 27/100\n",
      "16/16 [==============================] - 0s 5ms/step - loss: 0.6681 - accuracy: 0.6100 - val_loss: 0.6118 - val_accuracy: 0.7536\n",
      "Epoch 28/100\n",
      "16/16 [==============================] - 0s 8ms/step - loss: 0.6721 - accuracy: 0.6100 - val_loss: 0.6120 - val_accuracy: 0.7536\n",
      "Epoch 29/100\n",
      "16/16 [==============================] - 0s 5ms/step - loss: 0.6682 - accuracy: 0.6100 - val_loss: 0.6110 - val_accuracy: 0.7536\n",
      "Epoch 30/100\n",
      "16/16 [==============================] - 0s 5ms/step - loss: 0.6699 - accuracy: 0.6100 - val_loss: 0.6108 - val_accuracy: 0.7536\n",
      "Epoch 31/100\n",
      "16/16 [==============================] - 0s 5ms/step - loss: 0.6708 - accuracy: 0.6100 - val_loss: 0.6105 - val_accuracy: 0.7536\n",
      "Epoch 32/100\n",
      "16/16 [==============================] - 0s 6ms/step - loss: 0.6702 - accuracy: 0.6100 - val_loss: 0.6104 - val_accuracy: 0.7536\n",
      "Epoch 33/100\n",
      "16/16 [==============================] - 0s 5ms/step - loss: 0.6710 - accuracy: 0.6100 - val_loss: 0.6102 - val_accuracy: 0.7536\n",
      "Epoch 34/100\n",
      "16/16 [==============================] - 0s 6ms/step - loss: 0.6695 - accuracy: 0.6100 - val_loss: 0.6098 - val_accuracy: 0.7536\n",
      "Epoch 35/100\n",
      "16/16 [==============================] - 0s 5ms/step - loss: 0.6676 - accuracy: 0.6100 - val_loss: 0.6092 - val_accuracy: 0.7536\n",
      "Epoch 36/100\n",
      "16/16 [==============================] - 0s 6ms/step - loss: 0.6707 - accuracy: 0.6100 - val_loss: 0.6093 - val_accuracy: 0.7536\n",
      "Epoch 37/100\n",
      "16/16 [==============================] - 0s 7ms/step - loss: 0.6690 - accuracy: 0.6100 - val_loss: 0.6091 - val_accuracy: 0.7536\n",
      "Epoch 38/100\n",
      "16/16 [==============================] - 0s 5ms/step - loss: 0.6732 - accuracy: 0.6100 - val_loss: 0.6096 - val_accuracy: 0.7536\n",
      "Epoch 39/100\n",
      "16/16 [==============================] - 0s 5ms/step - loss: 0.6704 - accuracy: 0.6100 - val_loss: 0.6098 - val_accuracy: 0.7536\n",
      "Epoch 40/100\n",
      "16/16 [==============================] - 0s 6ms/step - loss: 0.6706 - accuracy: 0.6100 - val_loss: 0.6098 - val_accuracy: 0.7536\n",
      "Epoch 41/100\n",
      "16/16 [==============================] - 0s 6ms/step - loss: 0.6713 - accuracy: 0.6100 - val_loss: 0.6098 - val_accuracy: 0.7536\n",
      "Epoch 42/100\n",
      "16/16 [==============================] - 0s 5ms/step - loss: 0.6692 - accuracy: 0.6100 - val_loss: 0.6096 - val_accuracy: 0.7536\n",
      "Epoch 43/100\n",
      "16/16 [==============================] - 0s 5ms/step - loss: 0.6690 - accuracy: 0.6100 - val_loss: 0.6093 - val_accuracy: 0.7536\n",
      "Epoch 44/100\n",
      "16/16 [==============================] - 0s 4ms/step - loss: 0.6711 - accuracy: 0.6100 - val_loss: 0.6094 - val_accuracy: 0.7536\n",
      "Epoch 45/100\n",
      "16/16 [==============================] - 0s 6ms/step - loss: 0.6686 - accuracy: 0.6100 - val_loss: 0.6090 - val_accuracy: 0.7536\n",
      "Epoch 46/100\n",
      "16/16 [==============================] - 0s 5ms/step - loss: 0.6672 - accuracy: 0.6100 - val_loss: 0.6086 - val_accuracy: 0.7536\n",
      "Epoch 47/100\n",
      "16/16 [==============================] - 0s 6ms/step - loss: 0.6681 - accuracy: 0.6100 - val_loss: 0.6081 - val_accuracy: 0.7536\n",
      "Epoch 48/100\n",
      "16/16 [==============================] - 0s 4ms/step - loss: 0.6686 - accuracy: 0.6100 - val_loss: 0.6081 - val_accuracy: 0.7536\n",
      "Epoch 49/100\n",
      "16/16 [==============================] - 0s 5ms/step - loss: 0.6693 - accuracy: 0.6100 - val_loss: 0.6080 - val_accuracy: 0.7536\n",
      "Epoch 50/100\n",
      "16/16 [==============================] - 0s 7ms/step - loss: 0.6718 - accuracy: 0.6100 - val_loss: 0.6082 - val_accuracy: 0.7536\n",
      "Epoch 51/100\n",
      "16/16 [==============================] - 0s 5ms/step - loss: 0.6679 - accuracy: 0.6100 - val_loss: 0.6078 - val_accuracy: 0.7536\n",
      "Epoch 52/100\n",
      "16/16 [==============================] - 0s 6ms/step - loss: 0.6697 - accuracy: 0.6100 - val_loss: 0.6078 - val_accuracy: 0.7536\n",
      "Epoch 53/100\n",
      "16/16 [==============================] - 0s 6ms/step - loss: 0.6716 - accuracy: 0.6100 - val_loss: 0.6085 - val_accuracy: 0.7536\n",
      "Epoch 54/100\n",
      "16/16 [==============================] - 0s 6ms/step - loss: 0.6699 - accuracy: 0.6100 - val_loss: 0.6085 - val_accuracy: 0.7536\n",
      "Epoch 55/100\n",
      "16/16 [==============================] - 0s 5ms/step - loss: 0.6678 - accuracy: 0.6100 - val_loss: 0.6085 - val_accuracy: 0.7536\n",
      "Epoch 56/100\n",
      "16/16 [==============================] - 0s 5ms/step - loss: 0.6673 - accuracy: 0.6100 - val_loss: 0.6079 - val_accuracy: 0.7536\n",
      "Epoch 57/100\n",
      "16/16 [==============================] - 0s 5ms/step - loss: 0.6716 - accuracy: 0.6100 - val_loss: 0.6084 - val_accuracy: 0.7536\n",
      "Epoch 58/100\n",
      "16/16 [==============================] - 0s 4ms/step - loss: 0.6697 - accuracy: 0.6100 - val_loss: 0.6083 - val_accuracy: 0.7536\n",
      "Epoch 59/100\n",
      "16/16 [==============================] - 0s 5ms/step - loss: 0.6666 - accuracy: 0.6100 - val_loss: 0.6077 - val_accuracy: 0.7536\n",
      "Epoch 60/100\n",
      "16/16 [==============================] - 0s 5ms/step - loss: 0.6702 - accuracy: 0.6100 - val_loss: 0.6075 - val_accuracy: 0.7536\n",
      "Epoch 61/100\n",
      "16/16 [==============================] - 0s 5ms/step - loss: 0.6699 - accuracy: 0.6100 - val_loss: 0.6076 - val_accuracy: 0.7536\n",
      "Epoch 62/100\n",
      "16/16 [==============================] - 0s 5ms/step - loss: 0.6676 - accuracy: 0.6100 - val_loss: 0.6070 - val_accuracy: 0.7536\n",
      "Epoch 63/100\n",
      "16/16 [==============================] - 0s 7ms/step - loss: 0.6720 - accuracy: 0.6100 - val_loss: 0.6074 - val_accuracy: 0.7536\n",
      "Epoch 64/100\n",
      "16/16 [==============================] - 0s 5ms/step - loss: 0.6692 - accuracy: 0.6100 - val_loss: 0.6073 - val_accuracy: 0.7536\n",
      "Epoch 65/100\n",
      "16/16 [==============================] - 0s 5ms/step - loss: 0.6705 - accuracy: 0.6100 - val_loss: 0.6073 - val_accuracy: 0.7536\n",
      "Epoch 66/100\n",
      "16/16 [==============================] - 0s 6ms/step - loss: 0.6689 - accuracy: 0.6100 - val_loss: 0.6074 - val_accuracy: 0.7536\n",
      "Epoch 67/100\n",
      "16/16 [==============================] - 0s 7ms/step - loss: 0.6681 - accuracy: 0.6100 - val_loss: 0.6070 - val_accuracy: 0.7536\n",
      "Epoch 68/100\n",
      "16/16 [==============================] - 0s 5ms/step - loss: 0.6708 - accuracy: 0.6100 - val_loss: 0.6071 - val_accuracy: 0.7536\n",
      "Epoch 69/100\n",
      "16/16 [==============================] - 0s 5ms/step - loss: 0.6693 - accuracy: 0.6100 - val_loss: 0.6072 - val_accuracy: 0.7536\n",
      "Epoch 70/100\n",
      "16/16 [==============================] - 0s 5ms/step - loss: 0.6745 - accuracy: 0.6100 - val_loss: 0.6079 - val_accuracy: 0.7536\n",
      "Epoch 71/100\n",
      "16/16 [==============================] - 0s 5ms/step - loss: 0.6717 - accuracy: 0.6100 - val_loss: 0.6082 - val_accuracy: 0.7536\n",
      "Epoch 72/100\n",
      "16/16 [==============================] - 0s 5ms/step - loss: 0.6683 - accuracy: 0.6100 - val_loss: 0.6079 - val_accuracy: 0.7536\n",
      "Epoch 73/100\n",
      "16/16 [==============================] - 0s 5ms/step - loss: 0.6664 - accuracy: 0.6100 - val_loss: 0.6072 - val_accuracy: 0.7536\n",
      "Epoch 74/100\n",
      "16/16 [==============================] - 0s 6ms/step - loss: 0.6684 - accuracy: 0.6100 - val_loss: 0.6071 - val_accuracy: 0.7536\n",
      "Epoch 75/100\n",
      "16/16 [==============================] - 0s 7ms/step - loss: 0.6706 - accuracy: 0.6100 - val_loss: 0.6073 - val_accuracy: 0.7536\n",
      "Epoch 76/100\n",
      "16/16 [==============================] - 0s 5ms/step - loss: 0.6698 - accuracy: 0.6100 - val_loss: 0.6073 - val_accuracy: 0.7536\n",
      "Epoch 77/100\n",
      "16/16 [==============================] - 0s 4ms/step - loss: 0.6695 - accuracy: 0.6100 - val_loss: 0.6072 - val_accuracy: 0.7536\n",
      "Epoch 78/100\n",
      "16/16 [==============================] - 0s 5ms/step - loss: 0.6699 - accuracy: 0.6100 - val_loss: 0.6072 - val_accuracy: 0.7536\n",
      "Epoch 79/100\n",
      "16/16 [==============================] - 0s 5ms/step - loss: 0.6680 - accuracy: 0.6100 - val_loss: 0.6068 - val_accuracy: 0.7536\n",
      "Epoch 80/100\n",
      "16/16 [==============================] - 0s 4ms/step - loss: 0.6717 - accuracy: 0.6100 - val_loss: 0.6075 - val_accuracy: 0.7536\n",
      "Epoch 81/100\n",
      "16/16 [==============================] - 0s 4ms/step - loss: 0.6677 - accuracy: 0.6100 - val_loss: 0.6069 - val_accuracy: 0.7536\n",
      "Epoch 82/100\n",
      "16/16 [==============================] - 0s 5ms/step - loss: 0.6684 - accuracy: 0.6100 - val_loss: 0.6069 - val_accuracy: 0.7536\n",
      "Epoch 83/100\n",
      "16/16 [==============================] - 0s 5ms/step - loss: 0.6708 - accuracy: 0.6100 - val_loss: 0.6071 - val_accuracy: 0.7536\n",
      "Epoch 84/100\n",
      "16/16 [==============================] - 0s 5ms/step - loss: 0.6695 - accuracy: 0.6100 - val_loss: 0.6073 - val_accuracy: 0.7536\n",
      "Epoch 85/100\n",
      "16/16 [==============================] - 0s 5ms/step - loss: 0.6674 - accuracy: 0.6100 - val_loss: 0.6068 - val_accuracy: 0.7536\n",
      "Epoch 86/100\n",
      "16/16 [==============================] - 0s 5ms/step - loss: 0.6712 - accuracy: 0.6100 - val_loss: 0.6072 - val_accuracy: 0.7536\n",
      "Epoch 87/100\n",
      "16/16 [==============================] - 0s 5ms/step - loss: 0.6725 - accuracy: 0.6100 - val_loss: 0.6079 - val_accuracy: 0.7536\n",
      "Epoch 88/100\n",
      "16/16 [==============================] - 0s 5ms/step - loss: 0.6728 - accuracy: 0.6100 - val_loss: 0.6083 - val_accuracy: 0.7536\n",
      "Epoch 89/100\n",
      "16/16 [==============================] - 0s 6ms/step - loss: 0.6699 - accuracy: 0.6100 - val_loss: 0.6084 - val_accuracy: 0.7536\n",
      "Epoch 90/100\n",
      "16/16 [==============================] - 0s 5ms/step - loss: 0.6726 - accuracy: 0.6100 - val_loss: 0.6089 - val_accuracy: 0.7536\n",
      "Epoch 91/100\n",
      "16/16 [==============================] - 0s 5ms/step - loss: 0.6700 - accuracy: 0.6100 - val_loss: 0.6090 - val_accuracy: 0.7536\n",
      "Epoch 92/100\n",
      "16/16 [==============================] - 0s 4ms/step - loss: 0.6694 - accuracy: 0.6100 - val_loss: 0.6089 - val_accuracy: 0.7536\n",
      "Epoch 93/100\n",
      "16/16 [==============================] - 0s 5ms/step - loss: 0.6691 - accuracy: 0.6100 - val_loss: 0.6088 - val_accuracy: 0.7536\n",
      "Epoch 94/100\n",
      "16/16 [==============================] - 0s 5ms/step - loss: 0.6673 - accuracy: 0.6100 - val_loss: 0.6084 - val_accuracy: 0.7536\n",
      "Epoch 95/100\n",
      "16/16 [==============================] - 0s 5ms/step - loss: 0.6686 - accuracy: 0.6100 - val_loss: 0.6082 - val_accuracy: 0.7536\n",
      "Epoch 96/100\n",
      "16/16 [==============================] - 0s 5ms/step - loss: 0.6677 - accuracy: 0.6100 - val_loss: 0.6078 - val_accuracy: 0.7536\n",
      "Epoch 97/100\n",
      "16/16 [==============================] - 0s 8ms/step - loss: 0.6693 - accuracy: 0.6100 - val_loss: 0.6079 - val_accuracy: 0.7536\n",
      "Epoch 98/100\n",
      "16/16 [==============================] - 0s 5ms/step - loss: 0.6701 - accuracy: 0.6100 - val_loss: 0.6078 - val_accuracy: 0.7536\n",
      "Epoch 99/100\n",
      "16/16 [==============================] - 0s 5ms/step - loss: 0.6707 - accuracy: 0.6100 - val_loss: 0.6084 - val_accuracy: 0.7536\n",
      "Epoch 100/100\n",
      "16/16 [==============================] - 0s 4ms/step - loss: 0.6698 - accuracy: 0.6100 - val_loss: 0.6084 - val_accuracy: 0.7536\n"
     ]
    },
    {
     "data": {
      "text/plain": [
       "<keras.src.callbacks.History at 0x27d82389bd0>"
      ]
     },
     "execution_count": 50,
     "metadata": {},
     "output_type": "execute_result"
    }
   ],
   "source": [
    "cancer_predict_model.fit(training_features, training_labels, epochs = 100, validation_data = (testing_features, testing_labels))"
   ]
  },
  {
   "cell_type": "code",
   "execution_count": null,
   "id": "994bd4de-7971-4253-8efb-0d9acdb7b647",
   "metadata": {},
   "outputs": [],
   "source": [
    "cancer_predict_model.save(\"breast_\")"
   ]
  }
 ],
 "metadata": {
  "kernelspec": {
   "display_name": "Python 3 (ipykernel)",
   "language": "python",
   "name": "python3"
  },
  "language_info": {
   "codemirror_mode": {
    "name": "ipython",
    "version": 3
   },
   "file_extension": ".py",
   "mimetype": "text/x-python",
   "name": "python",
   "nbconvert_exporter": "python",
   "pygments_lexer": "ipython3",
   "version": "3.10.0"
  }
 },
 "nbformat": 4,
 "nbformat_minor": 5
}
