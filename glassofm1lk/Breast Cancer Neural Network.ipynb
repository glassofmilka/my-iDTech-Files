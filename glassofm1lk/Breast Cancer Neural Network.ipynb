{
 "cells": [
  {
   "cell_type": "code",
   "execution_count": 104,
   "id": "14d6c334-7863-4d57-891e-e92a7527983e",
   "metadata": {},
   "outputs": [],
   "source": [
    "import pandas as pd\n",
    "breast_cancer_data = pd.read_csv(\"https://raw.githubusercontent.com/glassofmilka/my-iDTech-Files/main/glassofm1lk/Breast_cancer_data.csv\")"
   ]
  },
  {
   "cell_type": "code",
   "execution_count": 105,
   "id": "fd8866b8-35eb-4515-b5c8-e4dba0d07660",
   "metadata": {},
   "outputs": [],
   "source": [
    "import tensorflow as tf\n",
    "from tensorflow import keras\n",
    "import numpy as np"
   ]
  },
  {
   "cell_type": "code",
   "execution_count": 106,
   "id": "54089501-fea2-4e29-8e52-79bd4a47ea81",
   "metadata": {},
   "outputs": [],
   "source": [
    "breast_cancer_data = breast_cancer_data.to_numpy()"
   ]
  },
  {
   "cell_type": "code",
   "execution_count": 107,
   "id": "f031d2ee-4c75-4ee4-9fb4-2a9374cff45e",
   "metadata": {},
   "outputs": [
    {
     "data": {
      "text/plain": [
       "(569, 6)"
      ]
     },
     "execution_count": 107,
     "metadata": {},
     "output_type": "execute_result"
    }
   ],
   "source": [
    "breast_cancer_data.shape"
   ]
  },
  {
   "cell_type": "code",
   "execution_count": 210,
   "id": "5a11626b-8fb7-4df2-83a4-ece28c7ffd28",
   "metadata": {},
   "outputs": [],
   "source": [
    "training_data = breast_cancer_data[:455]\n",
    "testing_data = breast_cancer_data[455:]"
   ]
  },
  {
   "cell_type": "code",
   "execution_count": 211,
   "id": "5712a712-35d2-420e-8f2c-b8f67676bf18",
   "metadata": {},
   "outputs": [
    {
     "name": "stdout",
     "output_type": "stream",
     "text": [
      "(455, 6)\n",
      "(114, 6)\n"
     ]
    }
   ],
   "source": [
    "print(training_data.shape)\n",
    "print(testing_data.shape)"
   ]
  },
  {
   "cell_type": "code",
   "execution_count": 212,
   "id": "ca31353a-5b1e-43b3-bd3b-5d250fef835a",
   "metadata": {},
   "outputs": [],
   "source": [
    "training_features = training_data[:, 0:-1]\n",
    "training_labels = training_data[:,-1]\n",
    "testing_features = testing_data[:, 0:-1]\n",
    "testing_labels = testing_data[:,-1]"
   ]
  },
  {
   "cell_type": "code",
   "execution_count": 213,
   "id": "26c989e1-5137-45cb-91fb-2aeba4db9c56",
   "metadata": {},
   "outputs": [
    {
     "name": "stdout",
     "output_type": "stream",
     "text": [
      "(455,)\n",
      "(455, 5)\n"
     ]
    }
   ],
   "source": [
    "print(training_labels.shape)\n",
    "print(training_features.shape)"
   ]
  },
  {
   "cell_type": "code",
   "execution_count": 214,
   "id": "2c6d01dd-6275-4cf5-9352-729cab6a06f3",
   "metadata": {},
   "outputs": [
    {
     "data": {
      "text/plain": [
       "(5,)"
      ]
     },
     "execution_count": 214,
     "metadata": {},
     "output_type": "execute_result"
    }
   ],
   "source": [
    "training_features[0].shape"
   ]
  },
  {
   "cell_type": "code",
   "execution_count": 215,
   "id": "8c24dc56-0ece-4b50-be9d-e939af7a10e6",
   "metadata": {},
   "outputs": [],
   "source": [
    "from tensorflow.keras.models import Sequential\n",
    "from tensorflow.keras.layers import Input, Dense, Dropout, BatchNormalization\n",
    "from tensorflow.keras.optimizers import Adam"
   ]
  },
  {
   "cell_type": "code",
   "execution_count": 216,
   "id": "0900847b-fc5a-4abb-8f7e-8224ca9db45f",
   "metadata": {},
   "outputs": [],
   "source": [
    "'''\n",
    "cancer_predict_model = Sequential()\n",
    "cancer_predict_model.add(Input(shape = (5,)))\n",
    "cancer_predict_model.add(Dense(1, activation = \"relu\"))\n",
    "cancer_predict_model.add(Dropout(0.2))\n",
    "cancer_predict_model.add(Dense(10, activation = \"relu\"))\n",
    "cancer_predict_model.add(Dropout(0.2))\n",
    "cancer_predict_model.add(Dense(1, activation = \"sigmoid\"))\n",
    "'''\n",
    "cancer_predict_model = Sequential()\n",
    "cancer_predict_model.add(Input(shape=(5,)))\n",
    "\n",
    "cancer_predict_model.add(Dense(64, activation=\"relu\"))\n",
    "cancer_predict_model.add(BatchNormalization())\n",
    "cancer_predict_model.add(Dropout(0.3))\n",
    "\n",
    "cancer_predict_model.add(Dense(32, activation=\"relu\"))\n",
    "cancer_predict_model.add(BatchNormalization())\n",
    "cancer_predict_model.add(Dropout(0.3))\n",
    "\n",
    "cancer_predict_model.add(Dense(16, activation=\"relu\"))\n",
    "cancer_predict_model.add(BatchNormalization())\n",
    "cancer_predict_model.add(Dropout(0.3))\n",
    "\n",
    "cancer_predict_model.add(Dense(1, activation=\"sigmoid\"))\n",
    "\n",
    "optimizer = Adam(0.001)"
   ]
  },
  {
   "cell_type": "code",
   "execution_count": 217,
   "id": "a4e5c363-df95-485a-93a3-17a34ddff9bf",
   "metadata": {},
   "outputs": [],
   "source": [
    "cancer_predict_model.compile(optimizer = optimizer, loss = \"binary_crossentropy\", metrics = ['accuracy'])"
   ]
  },
  {
   "cell_type": "code",
   "execution_count": 218,
   "id": "999a5032-8417-40b2-b66e-ff390e9c2229",
   "metadata": {},
   "outputs": [
    {
     "name": "stdout",
     "output_type": "stream",
     "text": [
      "Epoch 1/100\n",
      "15/15 [==============================] - 2s 25ms/step - loss: 0.5938 - accuracy: 0.6835 - val_loss: 2.3462 - val_accuracy: 0.2281\n",
      "Epoch 2/100\n",
      "15/15 [==============================] - 0s 6ms/step - loss: 0.4583 - accuracy: 0.7802 - val_loss: 1.9012 - val_accuracy: 0.2281\n",
      "Epoch 3/100\n",
      "15/15 [==============================] - 0s 6ms/step - loss: 0.4197 - accuracy: 0.8176 - val_loss: 1.6183 - val_accuracy: 0.2544\n",
      "Epoch 4/100\n",
      "15/15 [==============================] - 0s 7ms/step - loss: 0.3700 - accuracy: 0.8440 - val_loss: 1.3287 - val_accuracy: 0.2719\n",
      "Epoch 5/100\n",
      "15/15 [==============================] - 0s 7ms/step - loss: 0.3759 - accuracy: 0.8330 - val_loss: 1.0725 - val_accuracy: 0.3860\n",
      "Epoch 6/100\n",
      "15/15 [==============================] - 0s 7ms/step - loss: 0.3663 - accuracy: 0.8484 - val_loss: 0.8846 - val_accuracy: 0.5526\n",
      "Epoch 7/100\n",
      "15/15 [==============================] - 0s 6ms/step - loss: 0.3448 - accuracy: 0.8615 - val_loss: 0.7893 - val_accuracy: 0.6053\n",
      "Epoch 8/100\n",
      "15/15 [==============================] - 0s 7ms/step - loss: 0.3444 - accuracy: 0.8505 - val_loss: 0.6230 - val_accuracy: 0.6930\n",
      "Epoch 9/100\n",
      "15/15 [==============================] - 0s 7ms/step - loss: 0.3569 - accuracy: 0.8549 - val_loss: 0.4634 - val_accuracy: 0.7895\n",
      "Epoch 10/100\n",
      "15/15 [==============================] - 0s 6ms/step - loss: 0.3290 - accuracy: 0.8571 - val_loss: 0.3983 - val_accuracy: 0.8333\n",
      "Epoch 11/100\n",
      "15/15 [==============================] - 0s 6ms/step - loss: 0.3353 - accuracy: 0.8835 - val_loss: 0.3262 - val_accuracy: 0.8596\n",
      "Epoch 12/100\n",
      "15/15 [==============================] - 0s 7ms/step - loss: 0.3463 - accuracy: 0.8659 - val_loss: 0.3002 - val_accuracy: 0.8596\n",
      "Epoch 13/100\n",
      "15/15 [==============================] - 0s 7ms/step - loss: 0.2981 - accuracy: 0.8791 - val_loss: 0.2730 - val_accuracy: 0.8684\n",
      "Epoch 14/100\n",
      "15/15 [==============================] - 0s 7ms/step - loss: 0.2815 - accuracy: 0.8835 - val_loss: 0.2807 - val_accuracy: 0.8684\n",
      "Epoch 15/100\n",
      "15/15 [==============================] - 0s 8ms/step - loss: 0.3234 - accuracy: 0.8681 - val_loss: 0.2569 - val_accuracy: 0.8860\n",
      "Epoch 16/100\n",
      "15/15 [==============================] - 0s 6ms/step - loss: 0.3160 - accuracy: 0.8813 - val_loss: 0.2120 - val_accuracy: 0.9474\n",
      "Epoch 17/100\n",
      "15/15 [==============================] - 0s 8ms/step - loss: 0.3139 - accuracy: 0.8901 - val_loss: 0.2238 - val_accuracy: 0.9123\n",
      "Epoch 18/100\n",
      "15/15 [==============================] - 0s 7ms/step - loss: 0.2852 - accuracy: 0.8769 - val_loss: 0.2148 - val_accuracy: 0.9298\n",
      "Epoch 19/100\n",
      "15/15 [==============================] - 0s 7ms/step - loss: 0.2803 - accuracy: 0.8967 - val_loss: 0.2631 - val_accuracy: 0.8947\n",
      "Epoch 20/100\n",
      "15/15 [==============================] - 0s 6ms/step - loss: 0.3092 - accuracy: 0.8835 - val_loss: 0.2103 - val_accuracy: 0.9211\n",
      "Epoch 21/100\n",
      "15/15 [==============================] - 0s 7ms/step - loss: 0.2823 - accuracy: 0.8967 - val_loss: 0.2590 - val_accuracy: 0.8947\n",
      "Epoch 22/100\n",
      "15/15 [==============================] - 0s 7ms/step - loss: 0.3010 - accuracy: 0.8835 - val_loss: 0.2147 - val_accuracy: 0.9123\n",
      "Epoch 23/100\n",
      "15/15 [==============================] - 0s 7ms/step - loss: 0.2744 - accuracy: 0.8989 - val_loss: 0.1885 - val_accuracy: 0.9474\n",
      "Epoch 24/100\n",
      "15/15 [==============================] - 0s 7ms/step - loss: 0.2900 - accuracy: 0.8901 - val_loss: 0.1812 - val_accuracy: 0.9561\n",
      "Epoch 25/100\n",
      "15/15 [==============================] - 0s 8ms/step - loss: 0.2828 - accuracy: 0.8769 - val_loss: 0.2304 - val_accuracy: 0.9123\n",
      "Epoch 26/100\n",
      "15/15 [==============================] - 0s 6ms/step - loss: 0.2787 - accuracy: 0.8901 - val_loss: 0.2131 - val_accuracy: 0.8947\n",
      "Epoch 27/100\n",
      "15/15 [==============================] - 0s 7ms/step - loss: 0.3048 - accuracy: 0.8923 - val_loss: 0.2093 - val_accuracy: 0.8947\n",
      "Epoch 28/100\n",
      "15/15 [==============================] - 0s 7ms/step - loss: 0.3105 - accuracy: 0.8725 - val_loss: 0.1687 - val_accuracy: 0.9561\n",
      "Epoch 29/100\n",
      "15/15 [==============================] - 0s 7ms/step - loss: 0.2572 - accuracy: 0.8923 - val_loss: 0.2279 - val_accuracy: 0.9123\n",
      "Epoch 30/100\n",
      "15/15 [==============================] - 0s 8ms/step - loss: 0.2946 - accuracy: 0.8747 - val_loss: 0.2553 - val_accuracy: 0.8947\n",
      "Epoch 31/100\n",
      "15/15 [==============================] - 0s 7ms/step - loss: 0.3030 - accuracy: 0.8681 - val_loss: 0.2255 - val_accuracy: 0.8947\n",
      "Epoch 32/100\n",
      "15/15 [==============================] - 0s 8ms/step - loss: 0.2868 - accuracy: 0.8989 - val_loss: 0.1739 - val_accuracy: 0.9561\n",
      "Epoch 33/100\n",
      "15/15 [==============================] - 0s 6ms/step - loss: 0.2774 - accuracy: 0.8967 - val_loss: 0.1793 - val_accuracy: 0.9474\n",
      "Epoch 34/100\n",
      "15/15 [==============================] - 0s 8ms/step - loss: 0.2721 - accuracy: 0.8923 - val_loss: 0.1710 - val_accuracy: 0.9474\n",
      "Epoch 35/100\n",
      "15/15 [==============================] - 0s 5ms/step - loss: 0.2613 - accuracy: 0.9011 - val_loss: 0.1672 - val_accuracy: 0.9474\n",
      "Epoch 36/100\n",
      "15/15 [==============================] - 0s 7ms/step - loss: 0.2561 - accuracy: 0.8967 - val_loss: 0.1811 - val_accuracy: 0.9123\n",
      "Epoch 37/100\n",
      "15/15 [==============================] - 0s 6ms/step - loss: 0.2978 - accuracy: 0.8901 - val_loss: 0.2412 - val_accuracy: 0.9035\n",
      "Epoch 38/100\n",
      "15/15 [==============================] - 0s 8ms/step - loss: 0.2723 - accuracy: 0.8879 - val_loss: 0.1791 - val_accuracy: 0.9386\n",
      "Epoch 39/100\n",
      "15/15 [==============================] - 0s 6ms/step - loss: 0.3289 - accuracy: 0.8484 - val_loss: 0.1830 - val_accuracy: 0.9123\n",
      "Epoch 40/100\n",
      "15/15 [==============================] - 0s 7ms/step - loss: 0.2825 - accuracy: 0.8791 - val_loss: 0.2192 - val_accuracy: 0.9035\n",
      "Epoch 41/100\n",
      "15/15 [==============================] - 0s 5ms/step - loss: 0.2952 - accuracy: 0.8725 - val_loss: 0.2291 - val_accuracy: 0.9035\n",
      "Epoch 42/100\n",
      "15/15 [==============================] - 0s 6ms/step - loss: 0.2808 - accuracy: 0.8945 - val_loss: 0.1715 - val_accuracy: 0.9561\n",
      "Epoch 43/100\n",
      "15/15 [==============================] - 0s 7ms/step - loss: 0.2708 - accuracy: 0.8879 - val_loss: 0.2231 - val_accuracy: 0.9123\n",
      "Epoch 44/100\n",
      "15/15 [==============================] - 0s 9ms/step - loss: 0.2977 - accuracy: 0.8813 - val_loss: 0.2996 - val_accuracy: 0.8596\n",
      "Epoch 45/100\n",
      "15/15 [==============================] - 0s 6ms/step - loss: 0.2765 - accuracy: 0.8835 - val_loss: 0.2125 - val_accuracy: 0.9123\n",
      "Epoch 46/100\n",
      "15/15 [==============================] - 0s 6ms/step - loss: 0.2451 - accuracy: 0.9077 - val_loss: 0.1657 - val_accuracy: 0.9561\n",
      "Epoch 47/100\n",
      "15/15 [==============================] - 0s 6ms/step - loss: 0.2437 - accuracy: 0.9099 - val_loss: 0.2136 - val_accuracy: 0.9035\n",
      "Epoch 48/100\n",
      "15/15 [==============================] - 0s 7ms/step - loss: 0.2879 - accuracy: 0.8945 - val_loss: 0.2619 - val_accuracy: 0.8947\n",
      "Epoch 49/100\n",
      "15/15 [==============================] - 0s 6ms/step - loss: 0.2809 - accuracy: 0.8945 - val_loss: 0.1522 - val_accuracy: 0.9561\n",
      "Epoch 50/100\n",
      "15/15 [==============================] - 0s 6ms/step - loss: 0.2840 - accuracy: 0.8857 - val_loss: 0.1493 - val_accuracy: 0.9561\n",
      "Epoch 51/100\n",
      "15/15 [==============================] - 0s 7ms/step - loss: 0.2519 - accuracy: 0.8923 - val_loss: 0.1722 - val_accuracy: 0.9298\n",
      "Epoch 52/100\n",
      "15/15 [==============================] - 0s 7ms/step - loss: 0.2602 - accuracy: 0.8835 - val_loss: 0.1688 - val_accuracy: 0.9211\n",
      "Epoch 53/100\n",
      "15/15 [==============================] - 0s 10ms/step - loss: 0.2924 - accuracy: 0.8659 - val_loss: 0.1796 - val_accuracy: 0.9211\n",
      "Epoch 54/100\n",
      "15/15 [==============================] - 0s 6ms/step - loss: 0.2678 - accuracy: 0.8879 - val_loss: 0.1849 - val_accuracy: 0.9211\n",
      "Epoch 55/100\n",
      "15/15 [==============================] - 0s 5ms/step - loss: 0.2577 - accuracy: 0.8945 - val_loss: 0.2130 - val_accuracy: 0.8947\n",
      "Epoch 56/100\n",
      "15/15 [==============================] - 0s 6ms/step - loss: 0.2576 - accuracy: 0.8923 - val_loss: 0.1750 - val_accuracy: 0.9123\n",
      "Epoch 57/100\n",
      "15/15 [==============================] - 0s 6ms/step - loss: 0.2438 - accuracy: 0.9143 - val_loss: 0.1533 - val_accuracy: 0.9474\n",
      "Epoch 58/100\n",
      "15/15 [==============================] - 0s 7ms/step - loss: 0.2908 - accuracy: 0.8615 - val_loss: 0.1716 - val_accuracy: 0.9211\n",
      "Epoch 59/100\n",
      "15/15 [==============================] - 0s 6ms/step - loss: 0.2701 - accuracy: 0.8989 - val_loss: 0.1495 - val_accuracy: 0.9561\n",
      "Epoch 60/100\n",
      "15/15 [==============================] - 0s 6ms/step - loss: 0.2933 - accuracy: 0.8725 - val_loss: 0.3002 - val_accuracy: 0.8421\n",
      "Epoch 61/100\n",
      "15/15 [==============================] - 0s 7ms/step - loss: 0.2778 - accuracy: 0.8747 - val_loss: 0.1978 - val_accuracy: 0.9035\n",
      "Epoch 62/100\n",
      "15/15 [==============================] - 0s 6ms/step - loss: 0.2847 - accuracy: 0.8659 - val_loss: 0.1710 - val_accuracy: 0.9386\n",
      "Epoch 63/100\n",
      "15/15 [==============================] - 0s 5ms/step - loss: 0.2698 - accuracy: 0.8769 - val_loss: 0.2888 - val_accuracy: 0.8596\n",
      "Epoch 64/100\n",
      "15/15 [==============================] - 0s 7ms/step - loss: 0.2195 - accuracy: 0.9055 - val_loss: 0.1926 - val_accuracy: 0.9123\n",
      "Epoch 65/100\n",
      "15/15 [==============================] - 0s 7ms/step - loss: 0.3297 - accuracy: 0.8593 - val_loss: 0.1863 - val_accuracy: 0.9386\n",
      "Epoch 66/100\n",
      "15/15 [==============================] - 0s 6ms/step - loss: 0.2617 - accuracy: 0.8989 - val_loss: 0.1682 - val_accuracy: 0.9123\n",
      "Epoch 67/100\n",
      "15/15 [==============================] - 0s 8ms/step - loss: 0.2725 - accuracy: 0.8857 - val_loss: 0.1654 - val_accuracy: 0.9561\n",
      "Epoch 68/100\n",
      "15/15 [==============================] - 0s 6ms/step - loss: 0.2615 - accuracy: 0.8769 - val_loss: 0.1542 - val_accuracy: 0.9386\n",
      "Epoch 69/100\n",
      "15/15 [==============================] - 0s 6ms/step - loss: 0.3114 - accuracy: 0.8659 - val_loss: 0.1546 - val_accuracy: 0.9474\n",
      "Epoch 70/100\n",
      "15/15 [==============================] - 0s 6ms/step - loss: 0.2741 - accuracy: 0.8901 - val_loss: 0.1856 - val_accuracy: 0.9211\n",
      "Epoch 71/100\n",
      "15/15 [==============================] - 0s 7ms/step - loss: 0.2645 - accuracy: 0.8901 - val_loss: 0.1601 - val_accuracy: 0.9386\n",
      "Epoch 72/100\n",
      "15/15 [==============================] - 0s 7ms/step - loss: 0.2848 - accuracy: 0.8593 - val_loss: 0.2493 - val_accuracy: 0.8684\n",
      "Epoch 73/100\n",
      "15/15 [==============================] - 0s 7ms/step - loss: 0.2539 - accuracy: 0.8879 - val_loss: 0.4124 - val_accuracy: 0.7544\n",
      "Epoch 74/100\n",
      "15/15 [==============================] - 0s 7ms/step - loss: 0.2369 - accuracy: 0.8967 - val_loss: 0.3983 - val_accuracy: 0.7544\n",
      "Epoch 75/100\n",
      "15/15 [==============================] - 0s 6ms/step - loss: 0.2615 - accuracy: 0.8923 - val_loss: 0.2253 - val_accuracy: 0.8947\n",
      "Epoch 76/100\n",
      "15/15 [==============================] - 0s 6ms/step - loss: 0.2657 - accuracy: 0.9033 - val_loss: 0.2559 - val_accuracy: 0.8684\n",
      "Epoch 77/100\n",
      "15/15 [==============================] - 0s 6ms/step - loss: 0.2782 - accuracy: 0.8703 - val_loss: 0.2701 - val_accuracy: 0.8684\n",
      "Epoch 78/100\n",
      "15/15 [==============================] - 0s 6ms/step - loss: 0.2509 - accuracy: 0.8967 - val_loss: 0.1713 - val_accuracy: 0.9211\n",
      "Epoch 79/100\n",
      "15/15 [==============================] - 0s 7ms/step - loss: 0.2819 - accuracy: 0.8747 - val_loss: 0.2441 - val_accuracy: 0.8947\n",
      "Epoch 80/100\n",
      "15/15 [==============================] - 0s 6ms/step - loss: 0.2832 - accuracy: 0.8813 - val_loss: 0.2229 - val_accuracy: 0.8860\n",
      "Epoch 81/100\n",
      "15/15 [==============================] - 0s 6ms/step - loss: 0.2758 - accuracy: 0.8747 - val_loss: 0.2645 - val_accuracy: 0.8596\n",
      "Epoch 82/100\n",
      "15/15 [==============================] - 0s 9ms/step - loss: 0.2673 - accuracy: 0.8769 - val_loss: 0.1923 - val_accuracy: 0.9123\n",
      "Epoch 83/100\n",
      "15/15 [==============================] - 0s 6ms/step - loss: 0.2805 - accuracy: 0.8967 - val_loss: 0.1762 - val_accuracy: 0.9298\n",
      "Epoch 84/100\n",
      "15/15 [==============================] - 0s 8ms/step - loss: 0.2958 - accuracy: 0.8681 - val_loss: 0.1650 - val_accuracy: 0.9561\n",
      "Epoch 85/100\n",
      "15/15 [==============================] - 0s 6ms/step - loss: 0.2739 - accuracy: 0.9011 - val_loss: 0.1894 - val_accuracy: 0.9298\n",
      "Epoch 86/100\n",
      "15/15 [==============================] - 0s 6ms/step - loss: 0.2900 - accuracy: 0.8747 - val_loss: 0.2172 - val_accuracy: 0.9211\n",
      "Epoch 87/100\n",
      "15/15 [==============================] - 0s 6ms/step - loss: 0.2599 - accuracy: 0.9033 - val_loss: 0.2528 - val_accuracy: 0.8947\n",
      "Epoch 88/100\n",
      "15/15 [==============================] - 0s 7ms/step - loss: 0.2696 - accuracy: 0.8967 - val_loss: 0.3789 - val_accuracy: 0.7895\n",
      "Epoch 89/100\n",
      "15/15 [==============================] - 0s 7ms/step - loss: 0.2464 - accuracy: 0.8967 - val_loss: 0.1577 - val_accuracy: 0.9298\n",
      "Epoch 90/100\n",
      "15/15 [==============================] - 0s 7ms/step - loss: 0.2606 - accuracy: 0.9011 - val_loss: 0.3433 - val_accuracy: 0.8421\n",
      "Epoch 91/100\n",
      "15/15 [==============================] - 0s 7ms/step - loss: 0.2712 - accuracy: 0.8791 - val_loss: 0.2301 - val_accuracy: 0.8947\n",
      "Epoch 92/100\n",
      "15/15 [==============================] - 0s 8ms/step - loss: 0.2514 - accuracy: 0.8967 - val_loss: 0.2488 - val_accuracy: 0.8860\n",
      "Epoch 93/100\n",
      "15/15 [==============================] - 0s 6ms/step - loss: 0.2478 - accuracy: 0.8945 - val_loss: 0.1491 - val_accuracy: 0.9211\n",
      "Epoch 94/100\n",
      "15/15 [==============================] - 0s 5ms/step - loss: 0.2464 - accuracy: 0.8835 - val_loss: 0.1511 - val_accuracy: 0.9211\n",
      "Epoch 95/100\n",
      "15/15 [==============================] - 0s 7ms/step - loss: 0.2665 - accuracy: 0.8813 - val_loss: 0.1627 - val_accuracy: 0.9123\n",
      "Epoch 96/100\n",
      "15/15 [==============================] - 0s 6ms/step - loss: 0.2634 - accuracy: 0.8967 - val_loss: 0.1417 - val_accuracy: 0.9474\n",
      "Epoch 97/100\n",
      "15/15 [==============================] - 0s 7ms/step - loss: 0.2626 - accuracy: 0.9033 - val_loss: 0.1574 - val_accuracy: 0.9123\n",
      "Epoch 98/100\n",
      "15/15 [==============================] - 0s 6ms/step - loss: 0.2322 - accuracy: 0.9121 - val_loss: 0.1708 - val_accuracy: 0.9211\n",
      "Epoch 99/100\n",
      "15/15 [==============================] - 0s 6ms/step - loss: 0.2606 - accuracy: 0.8879 - val_loss: 0.1639 - val_accuracy: 0.9211\n",
      "Epoch 100/100\n",
      "15/15 [==============================] - 0s 6ms/step - loss: 0.2954 - accuracy: 0.8769 - val_loss: 0.1810 - val_accuracy: 0.9123\n"
     ]
    },
    {
     "data": {
      "text/plain": [
       "<keras.src.callbacks.History at 0x27d9dd66aa0>"
      ]
     },
     "execution_count": 218,
     "metadata": {},
     "output_type": "execute_result"
    }
   ],
   "source": [
    "cancer_predict_model.fit(training_features, training_labels, epochs = 100, validation_data = (testing_features, testing_labels))"
   ]
  },
  {
   "cell_type": "code",
   "execution_count": 150,
   "id": "994bd4de-7971-4253-8efb-0d9acdb7b647",
   "metadata": {},
   "outputs": [
    {
     "name": "stderr",
     "output_type": "stream",
     "text": [
      "C:\\Users\\Student\\AppData\\Local\\Programs\\Python\\Python310\\lib\\site-packages\\keras\\src\\engine\\training.py:3103: UserWarning: You are saving your model as an HDF5 file via `model.save()`. This file format is considered legacy. We recommend using instead the native Keras format, e.g. `model.save('my_model.keras')`.\n",
      "  saving_api.save_model(\n"
     ]
    }
   ],
   "source": [
    "cancer_predict_model.save(\"breast_cancer_model_optimzed.h5\")"
   ]
  },
  {
   "cell_type": "code",
   "execution_count": null,
   "id": "6b20a3b9-730c-475d-b2ea-621b9c0f558f",
   "metadata": {},
   "outputs": [],
   "source": []
  },
  {
   "cell_type": "code",
   "execution_count": null,
   "id": "8b672bb9-03d2-42e4-ab42-e8a87696c624",
   "metadata": {},
   "outputs": [],
   "source": []
  }
 ],
 "metadata": {
  "kernelspec": {
   "display_name": "Python 3 (ipykernel)",
   "language": "python",
   "name": "python3"
  },
  "language_info": {
   "codemirror_mode": {
    "name": "ipython",
    "version": 3
   },
   "file_extension": ".py",
   "mimetype": "text/x-python",
   "name": "python",
   "nbconvert_exporter": "python",
   "pygments_lexer": "ipython3",
   "version": "3.10.0"
  }
 },
 "nbformat": 4,
 "nbformat_minor": 5
}
