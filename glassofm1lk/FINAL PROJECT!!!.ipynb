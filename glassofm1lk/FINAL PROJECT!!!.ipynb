{
 "cells": [
  {
   "cell_type": "code",
   "execution_count": 15,
   "id": "37882aa4-3f36-4f99-87f2-0791a4ac038f",
   "metadata": {},
   "outputs": [],
   "source": [
    "class Character:\n",
    "    def __init__(self, name, race, class_type, background, strength, dexterity, constitution, intelligence, wisdom, charisma):\n",
    "        self.name = name\n",
    "        self.race = race\n",
    "        self.class_type = class_type\n",
    "        self.background = background\n",
    "        self.strength = strength\n",
    "        self.dexterity = dexterity\n",
    "        self.constitution = constitution\n",
    "        self.intelligence = intelligence\n",
    "        self.wisdom = wisdom\n",
    "        self.charisma = charisma\n",
    "        self.hit_points = self.calculate_hit_points()\n",
    "        self.skills = self.calculate_skills()\n",
    "        self.equipment = []\n",
    "\n",
    "    def calculate_hit_points(self):\n",
    "        # calculate hit points based on constitution score\n",
    "        return (self.constitution - 10) // 2 + 5\n",
    "\n",
    "    def calculate_skills(self):\n",
    "        # calculate skills based on ability scores\n",
    "        skills = {\n",
    "            \"Acrobatics\": self.dexterity,\n",
    "            \"Athletics\": self.strength,\n",
    "            \"Insight\": self.wisdom,\n",
    "            \"Intimidation\": self.charisma,\n",
    "            \"Perception\": self.wisdom,\n",
    "            \"Persuasion\": self.charisma,\n",
    "            \"Sleight of Hand\": self.dexterity,\n",
    "            \"Stealth\": self.dexterity\n",
    "        }\n",
    "        return skills\n",
    "\n",
    "    def add_equipment(self, item):\n",
    "        self.equipment.append(item)\n",
    "\n",
    "    def remove_equipment(self, item):\n",
    "        self.equipment.remove(item)\n",
    "\n",
    "    def display_character(self):\n",
    "        print(f\"Name: {self.name}\")\n",
    "        print(f\"Race: {self.race}\")\n",
    "        print(f\"Class: {self.class_type}\")\n",
    "        print(f\"Background: {self.background}\")\n",
    "        print(f\"Ability Scores:\")\n",
    "        print(f\"  Strength: {self.strength}\")\n",
    "        print(f\"  Dexterity: {self.dexterity}\")\n",
    "        print(f\"  Constitution: {self.constitution}\")\n",
    "        print(f\"  Intelligence: {self.intelligence}\")\n",
    "        print(f\"  Wisdom: {self.wisdom}\")\n",
    "        print(f\"  Charisma: {self.charisma}\")\n",
    "        print(f\"Hit Points: {self.hit_points}\")\n",
    "        print(f\"Skills:\")\n",
    "        for skill, score in self.skills.items():\n",
    "            print(f\"  {skill}: {score}\")\n",
    "        print(f\"Equipment: {', '.join(self.equipment)}\")\n"
   ]
  },
  {
   "cell_type": "code",
   "execution_count": null,
   "id": "bf13def9-0fad-48e9-ac6c-591a0d003094",
   "metadata": {},
   "outputs": [],
   "source": []
  }
 ],
 "metadata": {
  "kernelspec": {
   "display_name": "Python 3 (ipykernel)",
   "language": "python",
   "name": "python3"
  },
  "language_info": {
   "codemirror_mode": {
    "name": "ipython",
    "version": 3
   },
   "file_extension": ".py",
   "mimetype": "text/x-python",
   "name": "python",
   "nbconvert_exporter": "python",
   "pygments_lexer": "ipython3",
   "version": "3.10.0"
  }
 },
 "nbformat": 4,
 "nbformat_minor": 5
}
