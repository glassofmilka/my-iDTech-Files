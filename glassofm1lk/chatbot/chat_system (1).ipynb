{
 "cells": [
  {
   "cell_type": "markdown",
   "metadata": {
    "id": "xGlC9lfuJE_V"
   },
   "source": [
    "# Intro to AI Technologies\n",
    "As technology advances, new artificial intelligence-based tools and features, such as speech recognition, image recognition, virtual chat assistants, etc., are being introduced.\n",
    "\n",
    "Recently, AI technologies from OpenAI have become more popular and well-known, such as ChatGPT, an AI-based chat system. You'll use OpenAI technologies to code your own AI-based applications."
   ]
  },
  {
   "cell_type": "markdown",
   "metadata": {
    "id": "UcA61nAWJpBh"
   },
   "source": [
    "## Importing OpenAI\n",
    "To import the OpenAI library, you'll use the keyword import to install all the packages required to use the OpenAI tools."
   ]
  },
  {
   "cell_type": "code",
   "execution_count": 1,
   "metadata": {
    "id": "BTes7FbwH3pF"
   },
   "outputs": [],
   "source": [
    "# Import the OpenAI library\n",
    "from openai import OpenAI"
   ]
  },
  {
   "cell_type": "code",
   "execution_count": 2,
   "metadata": {
    "id": "t7hBkgTsTe2W"
   },
   "outputs": [],
   "source": [
    "# Use the OpenAI client library to add your API key.\n",
    "client = OpenAI(\n",
    "    api_key = \"nuh uh\"\n",
    ")"
   ]
  },
  {
   "cell_type": "markdown",
   "metadata": {
    "id": "Bm5krV4ewBhs"
   },
   "source": [
    "## Create a While Loop\n",
    "You'll create a while loop that allows the user to input prompts until they are ready to exit the system."
   ]
  },
  {
   "cell_type": "code",
   "execution_count": 3,
   "metadata": {
    "id": "2SnGQ6LCrV2y"
   },
   "outputs": [],
   "source": [
    "# Declare a control variable called end_program and assign the value as False.\n",
    "end_program = False"
   ]
  },
  {
   "cell_type": "code",
   "execution_count": 4,
   "metadata": {
    "id": "lkK4qX8mtEBp"
   },
   "outputs": [
    {
     "name": "stdin",
     "output_type": "stream",
     "text": [
      "enter a prompt:  create a subclass for this class: class Character:     def __init__(self, name, race, class_type, background, strength, dexterity, constitution, intelligence, wisdom, charisma):         self.name = name         self.race = race         self.class_type = class_type         self.background = background         self.strength = strength         self.dexterity = dexterity         self.constitution = constitution         self.intelligence = intelligence         self.wisdom = wisdom         self.charisma = charisma         self.hit_points = self.calculate_hit_points()         self.skills = self.calculate_skills()         self.equipment = []      def calculate_hit_points(self):         # calculate hit points based on constitution score         return (self.constitution - 10) // 2 + 5      def calculate_skills(self):         # calculate skills based on ability scores         skills = {             \"Acrobatics\": self.dexterity,             \"Athletics\": self.strength,             \"Insight\": self.wisdom,             \"Intimidation\": self.charisma,             \"Perception\": self.wisdom,             \"Persuasion\": self.charisma,             \"Sleight of Hand\": self.dexterity,             \"Stealth\": self.dexterity         }         return skills      def add_equipment(self, item):         self.equipment.append(item)      def remove_equipment(self, item):         self.equipment.remove(item)      def display_character(self):         print(f\"Name: {self.name}\")         print(f\"Race: {self.race}\")         print(f\"Class: {self.class_type}\")         print(f\"Background: {self.background}\")         print(f\"Ability Scores:\")         print(f\"  Strength: {self.strength}\")         print(f\"  Dexterity: {self.dexterity}\")         print(f\"  Constitution: {self.constitution}\")         print(f\"  Intelligence: {self.intelligence}\")         print(f\"  Wisdom: {self.wisdom}\")         print(f\"  Charisma: {self.charisma}\")         print(f\"Hit Points: {self.hit_points}\")         print(f\"Skills:\")         for skill, score in self.skills.items():             print(f\"  {skill}: {score}\")         print(f\"Equipment: {', '.join(self.equipment)}\")  # Example usage: character = Character(     name=\"Eilif Stonefist\",     race=\"Dwarf\",     class_type=\"Fighter\",     background=\"Soldier\",     strength=16,     dexterity=12,     constitution=14,     intelligence=10,     wisdom=13,     charisma=8 )  character.add_equipment(\"Longsword\") character.add_equipment(\"Leather Armor\") character.add_equipment(\"Backpack\")  character.display_character()\n"
     ]
    },
    {
     "name": "stdout",
     "output_type": "stream",
     "text": [
      "Dungeon Master: To create a subclass for the `Character` class, you can define a new class that inherits from `Character` like this:\n",
      "\n",
      "```python\n",
      "class SubCharacter(Character):\n",
      "    def __init__(self, name, race, class_type, background, strength, dexterity, constitution, intelligence, wisdom, charisma, special_ability):\n",
      "        super().__init__(name, race, class_type, background, strength, dexterity, constitution, intelligence, wisdom, charisma)\n",
      "        self.special_ability = special_ability\n",
      "\n",
      "    def display_character(self):\n",
      "        super().display_character()\n",
      "        print(f\"Special Ability: {self.special_ability}\")\n",
      "```\n",
      "\n",
      "In this subclass `SubCharacter`, we added a new attribute `special_ability` to the existing attributes inherited from the `Character` class. We also override the `display_character` method to include printing the special ability.\n",
      "\n",
      "You can now create an instance of `SubCharacter` and utilize it just like you did with the `Character` class.\n"
     ]
    },
    {
     "name": "stdin",
     "output_type": "stream",
     "text": [
      "enter a prompt:  exit\n"
     ]
    }
   ],
   "source": [
    "# Create a while loop to set up the chatbot system.\n",
    "while not end_program:\n",
    "    get_input = input(\"enter a prompt: \")\n",
    "    if get_input.lower() == \"exit\":\n",
    "        end_program = True\n",
    "    else:\n",
    "        system_data = [\n",
    "            {\"role\": \"system\", \"content\": \"You are a python code help bot.\"},\n",
    "            {\"role\": \"user\", \"content\": get_input}\n",
    "        ]\n",
    "        response = client.chat.completions.create(\n",
    "            model = \"gpt-3.5-turbo\",\n",
    "            messages = system_data\n",
    "        )\n",
    "        dungeon_master_response = response.choices[0].message.content\n",
    "        system_data.append({\"role\": \"dungeon master\", \"content\": dungeon_master_response})\n",
    "        print(\"Dungeon Master: \" + dungeon_master_response)"
   ]
  },
  {
   "cell_type": "code",
   "execution_count": null,
   "metadata": {},
   "outputs": [],
   "source": []
  }
 ],
 "metadata": {
  "colab": {
   "provenance": [],
   "toc_visible": true
  },
  "kernelspec": {
   "display_name": "Python 3 (ipykernel)",
   "language": "python",
   "name": "python3"
  },
  "language_info": {
   "codemirror_mode": {
    "name": "ipython",
    "version": 3
   },
   "file_extension": ".py",
   "mimetype": "text/x-python",
   "name": "python",
   "nbconvert_exporter": "python",
   "pygments_lexer": "ipython3",
   "version": "3.10.0"
  }
 },
 "nbformat": 4,
 "nbformat_minor": 4
}
