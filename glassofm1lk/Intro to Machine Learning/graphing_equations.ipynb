{
 "cells": [
  {
   "cell_type": "markdown",
   "metadata": {
    "id": "Br13f2GrvAyR"
   },
   "source": [
    "# Graphing Squares\n",
    "In the following example, you'll plot a graph using the y = x^2 mathematical equation."
   ]
  },
  {
   "cell_type": "markdown",
   "metadata": {
    "id": "gwnI2DZIOo1m"
   },
   "source": [
    "# Create a Function\n",
    "To get started, you'll create a function that squares the numerical values when they are passed as an argument."
   ]
  },
  {
   "cell_type": "code",
   "execution_count": 2,
   "metadata": {
    "id": "DraFWj_coHb9"
   },
   "outputs": [],
   "source": [
    "# Create a function called squared_values, which squares the numerical values when they are passed as an argument.\n",
    "def squared_values(x):\n",
    "    return x ** 2"
   ]
  },
  {
   "cell_type": "code",
   "execution_count": 3,
   "metadata": {
    "id": "vQ-s9KpYxqgw"
   },
   "outputs": [],
   "source": [
    "# Create an empty list called data to store the numerical values.\n",
    "data = []"
   ]
  },
  {
   "cell_type": "markdown",
   "metadata": {
    "id": "0cTApY18EfHr"
   },
   "source": [
    "# Create a Dataset\n",
    "With the function setup, you'll fill the data list with the squared values. You'll use a for loop to pass in all the numbers from 1 to 100."
   ]
  },
  {
   "cell_type": "code",
   "execution_count": 4,
   "metadata": {
    "id": "xyuQa2OcEiag"
   },
   "outputs": [],
   "source": [
    "# Create a for loop using the range method to pass numbers from 1 to 100.\n",
    "for num in range(1,101):\n",
    "    data.append(num)"
   ]
  },
  {
   "cell_type": "code",
   "execution_count": 5,
   "metadata": {
    "id": "nw02Qkn6G6hv"
   },
   "outputs": [
    {
     "name": "stdout",
     "output_type": "stream",
     "text": [
      "[1, 2, 3, 4, 5, 6, 7, 8, 9, 10, 11, 12, 13, 14, 15, 16, 17, 18, 19, 20, 21, 22, 23, 24, 25, 26, 27, 28, 29, 30, 31, 32, 33, 34, 35, 36, 37, 38, 39, 40, 41, 42, 43, 44, 45, 46, 47, 48, 49, 50, 51, 52, 53, 54, 55, 56, 57, 58, 59, 60, 61, 62, 63, 64, 65, 66, 67, 68, 69, 70, 71, 72, 73, 74, 75, 76, 77, 78, 79, 80, 81, 82, 83, 84, 85, 86, 87, 88, 89, 90, 91, 92, 93, 94, 95, 96, 97, 98, 99]\n"
     ]
    }
   ],
   "source": [
    "# Print the data list.\n",
    "print(data)"
   ]
  },
  {
   "cell_type": "markdown",
   "metadata": {
    "id": "aBb3yQzbHNho"
   },
   "source": [
    "# Graph the Data\n",
    "Now that you've added the values to the list, you'll use the matplotlib library to plot the data."
   ]
  },
  {
   "cell_type": "code",
   "execution_count": 12,
   "metadata": {
    "id": "z3DhS222KOKc"
   },
   "outputs": [],
   "source": [
    "# Import the matplotlib library.\n",
    "import matplotlib.pyplot as plt"
   ]
  },
  {
   "cell_type": "code",
   "execution_count": 14,
   "metadata": {
    "id": "sz6BlZmsLefC"
   },
   "outputs": [
    {
     "data": {
      "image/png": "[encoded data removed]",
      "text/plain": [
       "<Figure size 640x480 with 1 Axes>"
      ]
     },
     "metadata": {},
     "output_type": "display_data"
    }
   ],
   "source": [
    "# Use the  plt.plot() and plt.show() functions to plot the data.\n",
    "x = data\n",
    "y = [num ** 2 for num in data]\n",
    "plt.plot(x,y)\n",
    "plt.show()"
   ]
  },
  {
   "cell_type": "markdown",
   "metadata": {
    "id": "aCNBZRvWMhFK"
   },
   "source": [
    "# Using NumPy\n",
    "You've graphed all the values from 1 to 100 using a for loop, but you can also do it using a NumPy function for quicker and cleaner code. NumPy had a built-in function called np.arange(), which produces a NumPy array from 0 to x."
   ]
  },
  {
   "cell_type": "code",
   "execution_count": 15,
   "metadata": {
    "id": "RPJVv2qyMlGj"
   },
   "outputs": [],
   "source": [
    "# Import the numpy library.\n",
    "import numpy as np"
   ]
  },
  {
   "cell_type": "code",
   "execution_count": null,
   "metadata": {
    "id": "C8Iv3EVYN37P"
   },
   "outputs": [],
   "source": [
    "# Set the value of data to call the np.arange() function with 100 as the argument to return numbers from 0 to 99.\n"
   ]
  },
  {
   "cell_type": "code",
   "execution_count": null,
   "metadata": {
    "id": "cRNxUKK1N5Wn"
   },
   "outputs": [],
   "source": [
    "# Use the  plt.plot() and plt.show() functions to plot the data.\n"
   ]
  }
 ],
 "metadata": {
  "colab": {
   "provenance": [],
   "toc_visible": true
  },
  "kernelspec": {
   "display_name": "Python 3 (ipykernel)",
   "language": "python",
   "name": "python3"
  },
  "language_info": {
   "codemirror_mode": {
    "name": "ipython",
    "version": 3
   },
   "file_extension": ".py",
   "mimetype": "text/x-python",
   "name": "python",
   "nbconvert_exporter": "python",
   "pygments_lexer": "ipython3",
   "version": "3.10.0"
  }
 },
 "nbformat": 4,
 "nbformat_minor": 4
}
