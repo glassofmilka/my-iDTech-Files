{
  "nbformat": 4,
  "nbformat_minor": 0,
  "metadata": {
    "colab": {
      "provenance": [],
      "toc_visible": true
    },
    "kernelspec": {
      "name": "python3",
      "display_name": "Python 3"
    },
    "language_info": {
      "name": "python"
    }
  },
  "cells": [
    {
      "cell_type": "markdown",
      "source": [
        "# Matplotlib\n",
        "In addition to NumPy, Matplotlib is another popular library used for handling large datasets. Matplotlib comes complete with standard graphing functions. It’s also very useful for visualizing values over time."
      ],
      "metadata": {
        "id": "D-Ph2eVTGI7E"
      }
    },
    {
      "cell_type": "code",
      "execution_count": null,
      "metadata": {
        "id": "3dB2zaZfGFVB"
      },
      "outputs": [],
      "source": [
        "# Import the matplotlib library.\n"
      ]
    },
    {
      "cell_type": "code",
      "source": [
        "# Create two variables called x and y, and set up two lists of numerical data.\n"
      ],
      "metadata": {
        "id": "z5rm2JOxiLo3"
      },
      "execution_count": null,
      "outputs": []
    },
    {
      "cell_type": "markdown",
      "source": [
        "# Plot the Data\n",
        "To create a graph, you'll use the built-in plt.plot() function. In addition, you'll use the built-in plt.show() function to display the graph."
      ],
      "metadata": {
        "id": "Lq0jfrdpjiKE"
      }
    },
    {
      "cell_type": "code",
      "source": [
        "# Input the x and y lists into plt.plot() function.\n"
      ],
      "metadata": {
        "id": "MSxgLj8UjA9s"
      },
      "execution_count": null,
      "outputs": []
    },
    {
      "cell_type": "code",
      "source": [
        "# Use the plt.show() to display the line representing the data.\n"
      ],
      "metadata": {
        "id": "1o1rIu69lBXj"
      },
      "execution_count": null,
      "outputs": []
    },
    {
      "cell_type": "markdown",
      "source": [
        "# Change the Display\n",
        "In addition to plotting a line, you can also create a scatter plot. In the plt.plot() function, you can pass two characters, such as \"ro\" to modify the way your graph appears."
      ],
      "metadata": {
        "id": "vP-94WEHlrCS"
      }
    },
    {
      "cell_type": "code",
      "source": [
        "# Update the plt.plot() function to plot red points on your graph instead of a blue line.\n"
      ],
      "metadata": {
        "id": "DWaBfcwimc4e"
      },
      "execution_count": null,
      "outputs": []
    }
  ]
}