{
 "cells": [
  {
   "cell_type": "code",
   "execution_count": 3,
   "metadata": {
    "id": "sWGCBQiXLtVN"
   },
   "outputs": [
    {
     "name": "stdout",
     "output_type": "stream",
     "text": [
      "Epoch 1/10\n",
      "15/15 [==============================] - 1s 2ms/step - loss: 95.4104 - accuracy: 0.6264\n",
      "Epoch 2/10\n",
      "15/15 [==============================] - 0s 3ms/step - loss: 87.1409 - accuracy: 0.6264\n",
      "Epoch 3/10\n",
      "15/15 [==============================] - 0s 3ms/step - loss: 79.5989 - accuracy: 0.6264\n",
      "Epoch 4/10\n",
      "15/15 [==============================] - 0s 2ms/step - loss: 72.0492 - accuracy: 0.6264\n",
      "Epoch 5/10\n",
      "15/15 [==============================] - 0s 2ms/step - loss: 65.0344 - accuracy: 0.6264\n",
      "Epoch 6/10\n",
      "15/15 [==============================] - 0s 3ms/step - loss: 58.3300 - accuracy: 0.6264\n",
      "Epoch 7/10\n",
      "15/15 [==============================] - 0s 3ms/step - loss: 51.9392 - accuracy: 0.6264\n",
      "Epoch 8/10\n",
      "15/15 [==============================] - 0s 3ms/step - loss: 45.8227 - accuracy: 0.6264\n",
      "Epoch 9/10\n",
      "15/15 [==============================] - 0s 3ms/step - loss: 39.9580 - accuracy: 0.6264\n",
      "Epoch 10/10\n",
      "15/15 [==============================] - 0s 2ms/step - loss: 33.9283 - accuracy: 0.6264\n",
      "4/4 [==============================] - 0s 3ms/step - loss: 28.1083 - accuracy: 0.6316\n",
      "Test loss: 28.108291625976562\n",
      "Test accuracy: 0.6315789222717285\n"
     ]
    }
   ],
   "source": [
    "import numpy as np\n",
    "from keras.models import Sequential\n",
    "from keras.layers import Dense\n",
    "from sklearn.model_selection import train_test_split\n",
    "\n",
    "# Load the dataset from the CSV file\n",
    "# what we want:\n",
    "# X = np.array([[size1, shape1, texture1], [size2, shape2, texture2], ...])\n",
    "# y = np.array([0, 1, 0, ...])\n",
    "\n",
    "data = np.genfromtxt('Breast_cancer_data.csv', delimiter=',', skip_header=1)\n",
    "\n",
    "# Split the data into the input features (X) and the labels (y)\n",
    "X = data[:, :-1]\n",
    "y = data[:, -1]\n",
    "\n",
    "# Split the dataset into a training set and a test set\n",
    "X_train, X_test, y_train, y_test = train_test_split(X, y, test_size=0.2)\n",
    "\n",
    "# Define the model\n",
    "model = Sequential()\n",
    "model.add(Dense(10, input_dim=5, activation='relu'))\n",
    "model.add(Dense(1, activation='sigmoid'))\n",
    "\n",
    "# Compile the model\n",
    "model.compile(loss='binary_crossentropy', optimizer='adam', metrics=['accuracy'])\n",
    "\n",
    "# Fit the model to the training data\n",
    "model.fit(X_train, y_train, epochs=10, batch_size=32)\n",
    "\n",
    "# Evaluate the model on the test data\n",
    "loss, accuracy = model.evaluate(X_test, y_test)\n",
    "print('Test loss:', loss)\n",
    "print('Test accuracy:', accuracy)"
   ]
  },
  {
   "cell_type": "code",
   "execution_count": null,
   "metadata": {},
   "outputs": [],
   "source": []
  }
 ],
 "metadata": {
  "colab": {
   "provenance": []
  },
  "kernelspec": {
   "display_name": "Python 3 (ipykernel)",
   "language": "python",
   "name": "python3"
  },
  "language_info": {
   "codemirror_mode": {
    "name": "ipython",
    "version": 3
   },
   "file_extension": ".py",
   "mimetype": "text/x-python",
   "name": "python",
   "nbconvert_exporter": "python",
   "pygments_lexer": "ipython3",
   "version": "3.10.0"
  }
 },
 "nbformat": 4,
 "nbformat_minor": 4
}
