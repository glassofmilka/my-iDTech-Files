{
 "cells": [
  {
   "cell_type": "code",
   "execution_count": 285,
   "id": "14d6c334-7863-4d57-891e-e92a7527983e",
   "metadata": {},
   "outputs": [],
   "source": [
    "import pandas as pd\n",
    "breast_cancer_data = pd.read_csv(\"https://raw.githubusercontent.com/glassofmilka/my-iDTech-Files/main/glassofm1lk/Final%20Project/Breast_cancer_data.csv\")"
   ]
  },
  {
   "cell_type": "code",
   "execution_count": 286,
   "id": "fd8866b8-35eb-4515-b5c8-e4dba0d07660",
   "metadata": {},
   "outputs": [],
   "source": [
    "import tensorflow as tf\n",
    "from tensorflow import keras\n",
    "import numpy as np"
   ]
  },
  {
   "cell_type": "code",
   "execution_count": 287,
   "id": "54089501-fea2-4e29-8e52-79bd4a47ea81",
   "metadata": {},
   "outputs": [],
   "source": [
    "breast_cancer_data = breast_cancer_data.to_numpy()"
   ]
  },
  {
   "cell_type": "code",
   "execution_count": 288,
   "id": "f031d2ee-4c75-4ee4-9fb4-2a9374cff45e",
   "metadata": {},
   "outputs": [
    {
     "data": {
      "text/plain": [
       "(569, 6)"
      ]
     },
     "execution_count": 288,
     "metadata": {},
     "output_type": "execute_result"
    }
   ],
   "source": [
    "breast_cancer_data.shape"
   ]
  },
  {
   "cell_type": "code",
   "execution_count": 294,
   "id": "5a11626b-8fb7-4df2-83a4-ece28c7ffd28",
   "metadata": {},
   "outputs": [],
   "source": [
    "training_data = breast_cancer_data[:550]\n",
    "testing_data = breast_cancer_data[550:]"
   ]
  },
  {
   "cell_type": "code",
   "execution_count": 295,
   "id": "5712a712-35d2-420e-8f2c-b8f67676bf18",
   "metadata": {},
   "outputs": [
    {
     "name": "stdout",
     "output_type": "stream",
     "text": [
      "(550, 6)\n",
      "(19, 6)\n"
     ]
    }
   ],
   "source": [
    "print(training_data.shape)\n",
    "print(testing_data.shape)"
   ]
  },
  {
   "cell_type": "code",
   "execution_count": 296,
   "id": "ca31353a-5b1e-43b3-bd3b-5d250fef835a",
   "metadata": {},
   "outputs": [],
   "source": [
    "training_features = training_data[:, 0:-1]\n",
    "training_labels = training_data[:,-1]\n",
    "testing_features = testing_data[:, 0:-1]\n",
    "testing_labels = testing_data[:,-1]"
   ]
  },
  {
   "cell_type": "code",
   "execution_count": 297,
   "id": "26c989e1-5137-45cb-91fb-2aeba4db9c56",
   "metadata": {},
   "outputs": [
    {
     "name": "stdout",
     "output_type": "stream",
     "text": [
      "(550,)\n",
      "(550, 5)\n"
     ]
    }
   ],
   "source": [
    "print(training_labels.shape)\n",
    "print(training_features.shape)"
   ]
  },
  {
   "cell_type": "code",
   "execution_count": 298,
   "id": "2c6d01dd-6275-4cf5-9352-729cab6a06f3",
   "metadata": {},
   "outputs": [
    {
     "data": {
      "text/plain": [
       "(5,)"
      ]
     },
     "execution_count": 298,
     "metadata": {},
     "output_type": "execute_result"
    }
   ],
   "source": [
    "training_features[0].shape"
   ]
  },
  {
   "cell_type": "code",
   "execution_count": 299,
   "id": "8c24dc56-0ece-4b50-be9d-e939af7a10e6",
   "metadata": {},
   "outputs": [],
   "source": [
    "from tensorflow.keras.models import Sequential\n",
    "from tensorflow.keras.layers import Input, Dense, Dropout, BatchNormalization\n",
    "from tensorflow.keras.optimizers import Adam"
   ]
  },
  {
   "cell_type": "code",
   "execution_count": 320,
   "id": "0900847b-fc5a-4abb-8f7e-8224ca9db45f",
   "metadata": {},
   "outputs": [],
   "source": [
    "'''\n",
    "cancer_predict_model = Sequential()\n",
    "cancer_predict_model.add(Input(shape = (5,)))\n",
    "cancer_predict_model.add(Dense(1, activation = \"relu\"))\n",
    "cancer_predict_model.add(Dropout(0.2))\n",
    "cancer_predict_model.add(Dense(10, activation = \"relu\"))\n",
    "cancer_predict_model.add(Dropout(0.2))\n",
    "cancer_predict_model.add(Dense(1, activation = \"sigmoid\"))\n",
    "\n",
    "'''\n",
    "cancer_predict_model = Sequential()\n",
    "cancer_predict_model.add(Input(shape=(5,)))\n",
    "\n",
    "cancer_predict_model.add(Dense(64, activation=\"relu\"))\n",
    "cancer_predict_model.add(BatchNormalization())\n",
    "cancer_predict_model.add(Dropout(0.3))\n",
    "\n",
    "cancer_predict_model.add(Dense(32, activation=\"relu\"))\n",
    "cancer_predict_model.add(BatchNormalization())\n",
    "cancer_predict_model.add(Dropout(0.3))\n",
    "\n",
    "cancer_predict_model.add(Dense(16, activation=\"relu\"))\n",
    "cancer_predict_model.add(BatchNormalization())\n",
    "cancer_predict_model.add(Dropout(0.3))\n",
    "\n",
    "cancer_predict_model.add(Dense(1, activation=\"sigmoid\"))\n",
    "\n",
    "optimizer = Adam(0.001)"
   ]
  },
  {
   "cell_type": "code",
   "execution_count": 321,
   "id": "a4e5c363-df95-485a-93a3-17a34ddff9bf",
   "metadata": {},
   "outputs": [],
   "source": [
    "cancer_predict_model.compile(optimizer = optimizer, loss = \"binary_crossentropy\", metrics = ['accuracy'])"
   ]
  },
  {
   "cell_type": "code",
   "execution_count": 322,
   "id": "999a5032-8417-40b2-b66e-ff390e9c2229",
   "metadata": {},
   "outputs": [
    {
     "name": "stdout",
     "output_type": "stream",
     "text": [
      "Epoch 1/100\n",
      "18/18 [==============================] - 2s 19ms/step - loss: 0.9989 - accuracy: 0.4982 - val_loss: 1.7759 - val_accuracy: 0.6842\n",
      "Epoch 2/100\n",
      "18/18 [==============================] - 0s 7ms/step - loss: 0.6674 - accuracy: 0.6455 - val_loss: 0.7340 - val_accuracy: 0.4737\n",
      "Epoch 3/100\n",
      "18/18 [==============================] - 0s 5ms/step - loss: 0.5065 - accuracy: 0.7364 - val_loss: 0.6909 - val_accuracy: 0.5263\n",
      "Epoch 4/100\n",
      "18/18 [==============================] - 0s 5ms/step - loss: 0.4575 - accuracy: 0.7727 - val_loss: 0.6409 - val_accuracy: 0.5789\n",
      "Epoch 5/100\n",
      "18/18 [==============================] - 0s 6ms/step - loss: 0.4570 - accuracy: 0.7873 - val_loss: 0.5666 - val_accuracy: 0.7368\n",
      "Epoch 6/100\n",
      "18/18 [==============================] - 0s 5ms/step - loss: 0.4001 - accuracy: 0.8327 - val_loss: 0.4862 - val_accuracy: 0.7895\n",
      "Epoch 7/100\n",
      "18/18 [==============================] - 0s 5ms/step - loss: 0.4031 - accuracy: 0.8200 - val_loss: 0.4087 - val_accuracy: 0.7895\n",
      "Epoch 8/100\n",
      "18/18 [==============================] - 0s 6ms/step - loss: 0.3959 - accuracy: 0.8218 - val_loss: 0.3247 - val_accuracy: 0.8421\n",
      "Epoch 9/100\n",
      "18/18 [==============================] - 0s 6ms/step - loss: 0.3615 - accuracy: 0.8455 - val_loss: 0.2440 - val_accuracy: 0.8947\n",
      "Epoch 10/100\n",
      "18/18 [==============================] - 0s 5ms/step - loss: 0.3300 - accuracy: 0.8582 - val_loss: 0.2187 - val_accuracy: 0.8947\n",
      "Epoch 11/100\n",
      "18/18 [==============================] - 0s 6ms/step - loss: 0.3406 - accuracy: 0.8436 - val_loss: 0.1465 - val_accuracy: 0.9474\n",
      "Epoch 12/100\n",
      "18/18 [==============================] - 0s 5ms/step - loss: 0.3717 - accuracy: 0.8582 - val_loss: 0.1552 - val_accuracy: 0.9474\n",
      "Epoch 13/100\n",
      "18/18 [==============================] - 0s 6ms/step - loss: 0.3528 - accuracy: 0.8473 - val_loss: 0.1170 - val_accuracy: 1.0000\n",
      "Epoch 14/100\n",
      "18/18 [==============================] - 0s 5ms/step - loss: 0.3270 - accuracy: 0.8618 - val_loss: 0.1496 - val_accuracy: 1.0000\n",
      "Epoch 15/100\n",
      "18/18 [==============================] - 0s 7ms/step - loss: 0.2982 - accuracy: 0.8855 - val_loss: 0.1351 - val_accuracy: 1.0000\n",
      "Epoch 16/100\n",
      "18/18 [==============================] - 0s 5ms/step - loss: 0.3447 - accuracy: 0.8655 - val_loss: 0.1470 - val_accuracy: 1.0000\n",
      "Epoch 17/100\n",
      "18/18 [==============================] - 0s 5ms/step - loss: 0.3246 - accuracy: 0.8691 - val_loss: 0.1192 - val_accuracy: 1.0000\n",
      "Epoch 18/100\n",
      "18/18 [==============================] - 0s 7ms/step - loss: 0.2874 - accuracy: 0.8891 - val_loss: 0.1238 - val_accuracy: 1.0000\n",
      "Epoch 19/100\n",
      "18/18 [==============================] - 0s 7ms/step - loss: 0.3068 - accuracy: 0.8691 - val_loss: 0.1004 - val_accuracy: 1.0000\n",
      "Epoch 20/100\n",
      "18/18 [==============================] - 0s 6ms/step - loss: 0.3184 - accuracy: 0.8673 - val_loss: 0.0991 - val_accuracy: 1.0000\n",
      "Epoch 21/100\n",
      "18/18 [==============================] - 0s 7ms/step - loss: 0.3140 - accuracy: 0.8655 - val_loss: 0.1087 - val_accuracy: 1.0000\n",
      "Epoch 22/100\n",
      "18/18 [==============================] - 0s 6ms/step - loss: 0.3134 - accuracy: 0.8800 - val_loss: 0.2295 - val_accuracy: 0.8947\n",
      "Epoch 23/100\n",
      "18/18 [==============================] - 0s 5ms/step - loss: 0.3065 - accuracy: 0.8764 - val_loss: 0.1850 - val_accuracy: 0.8947\n",
      "Epoch 24/100\n",
      "18/18 [==============================] - 0s 6ms/step - loss: 0.2989 - accuracy: 0.8727 - val_loss: 0.1303 - val_accuracy: 1.0000\n",
      "Epoch 25/100\n",
      "18/18 [==============================] - 0s 6ms/step - loss: 0.3248 - accuracy: 0.8564 - val_loss: 0.1031 - val_accuracy: 1.0000\n",
      "Epoch 26/100\n",
      "18/18 [==============================] - 0s 6ms/step - loss: 0.2988 - accuracy: 0.8691 - val_loss: 0.0949 - val_accuracy: 1.0000\n",
      "Epoch 27/100\n",
      "18/18 [==============================] - 0s 5ms/step - loss: 0.2941 - accuracy: 0.8945 - val_loss: 0.0882 - val_accuracy: 1.0000\n",
      "Epoch 28/100\n",
      "18/18 [==============================] - 0s 7ms/step - loss: 0.2875 - accuracy: 0.8909 - val_loss: 0.0879 - val_accuracy: 1.0000\n",
      "Epoch 29/100\n",
      "18/18 [==============================] - 0s 6ms/step - loss: 0.3086 - accuracy: 0.8727 - val_loss: 0.0902 - val_accuracy: 1.0000\n",
      "Epoch 30/100\n",
      "18/18 [==============================] - 0s 6ms/step - loss: 0.3147 - accuracy: 0.8673 - val_loss: 0.0948 - val_accuracy: 1.0000\n",
      "Epoch 31/100\n",
      "18/18 [==============================] - 0s 8ms/step - loss: 0.2915 - accuracy: 0.8800 - val_loss: 0.1033 - val_accuracy: 0.9474\n",
      "Epoch 32/100\n",
      "18/18 [==============================] - 0s 6ms/step - loss: 0.2789 - accuracy: 0.8818 - val_loss: 0.1123 - val_accuracy: 0.9474\n",
      "Epoch 33/100\n",
      "18/18 [==============================] - 0s 6ms/step - loss: 0.3007 - accuracy: 0.8800 - val_loss: 0.0813 - val_accuracy: 1.0000\n",
      "Epoch 34/100\n",
      "18/18 [==============================] - 0s 5ms/step - loss: 0.3372 - accuracy: 0.8618 - val_loss: 0.1057 - val_accuracy: 0.9474\n",
      "Epoch 35/100\n",
      "18/18 [==============================] - 0s 6ms/step - loss: 0.3155 - accuracy: 0.8673 - val_loss: 0.1299 - val_accuracy: 0.8947\n",
      "Epoch 36/100\n",
      "18/18 [==============================] - 0s 6ms/step - loss: 0.2785 - accuracy: 0.8782 - val_loss: 0.0953 - val_accuracy: 0.9474\n",
      "Epoch 37/100\n",
      "18/18 [==============================] - 0s 6ms/step - loss: 0.3021 - accuracy: 0.8800 - val_loss: 0.0959 - val_accuracy: 0.9474\n",
      "Epoch 38/100\n",
      "18/18 [==============================] - 0s 6ms/step - loss: 0.2721 - accuracy: 0.8855 - val_loss: 0.0978 - val_accuracy: 1.0000\n",
      "Epoch 39/100\n",
      "18/18 [==============================] - 0s 6ms/step - loss: 0.2995 - accuracy: 0.8782 - val_loss: 0.0996 - val_accuracy: 1.0000\n",
      "Epoch 40/100\n",
      "18/18 [==============================] - 0s 7ms/step - loss: 0.2993 - accuracy: 0.8673 - val_loss: 0.0959 - val_accuracy: 1.0000\n",
      "Epoch 41/100\n",
      "18/18 [==============================] - 0s 5ms/step - loss: 0.2645 - accuracy: 0.9055 - val_loss: 0.1033 - val_accuracy: 1.0000\n",
      "Epoch 42/100\n",
      "18/18 [==============================] - 0s 5ms/step - loss: 0.2882 - accuracy: 0.8982 - val_loss: 0.1202 - val_accuracy: 1.0000\n",
      "Epoch 43/100\n",
      "18/18 [==============================] - 0s 7ms/step - loss: 0.2742 - accuracy: 0.8927 - val_loss: 0.1168 - val_accuracy: 0.9474\n",
      "Epoch 44/100\n",
      "18/18 [==============================] - 0s 6ms/step - loss: 0.2694 - accuracy: 0.8800 - val_loss: 0.1298 - val_accuracy: 0.9474\n",
      "Epoch 45/100\n",
      "18/18 [==============================] - 0s 6ms/step - loss: 0.2801 - accuracy: 0.8800 - val_loss: 0.1239 - val_accuracy: 1.0000\n",
      "Epoch 46/100\n",
      "18/18 [==============================] - 0s 6ms/step - loss: 0.2489 - accuracy: 0.8982 - val_loss: 0.1697 - val_accuracy: 0.9474\n",
      "Epoch 47/100\n",
      "18/18 [==============================] - 0s 5ms/step - loss: 0.2634 - accuracy: 0.8964 - val_loss: 0.1285 - val_accuracy: 1.0000\n",
      "Epoch 48/100\n",
      "18/18 [==============================] - 0s 7ms/step - loss: 0.2853 - accuracy: 0.8764 - val_loss: 0.1325 - val_accuracy: 1.0000\n",
      "Epoch 49/100\n",
      "18/18 [==============================] - 0s 5ms/step - loss: 0.2643 - accuracy: 0.9127 - val_loss: 0.1603 - val_accuracy: 0.9474\n",
      "Epoch 50/100\n",
      "18/18 [==============================] - 0s 6ms/step - loss: 0.2857 - accuracy: 0.8800 - val_loss: 0.1495 - val_accuracy: 1.0000\n",
      "Epoch 51/100\n",
      "18/18 [==============================] - 0s 5ms/step - loss: 0.2805 - accuracy: 0.9036 - val_loss: 0.1380 - val_accuracy: 0.9474\n",
      "Epoch 52/100\n",
      "18/18 [==============================] - 0s 7ms/step - loss: 0.2757 - accuracy: 0.8764 - val_loss: 0.1356 - val_accuracy: 1.0000\n",
      "Epoch 53/100\n",
      "18/18 [==============================] - 0s 5ms/step - loss: 0.2893 - accuracy: 0.8800 - val_loss: 0.1257 - val_accuracy: 1.0000\n",
      "Epoch 54/100\n",
      "18/18 [==============================] - 0s 6ms/step - loss: 0.2830 - accuracy: 0.8818 - val_loss: 0.1418 - val_accuracy: 1.0000\n",
      "Epoch 55/100\n",
      "18/18 [==============================] - 0s 7ms/step - loss: 0.2824 - accuracy: 0.8873 - val_loss: 0.2015 - val_accuracy: 0.8947\n",
      "Epoch 56/100\n",
      "18/18 [==============================] - 0s 4ms/step - loss: 0.2943 - accuracy: 0.8745 - val_loss: 0.1616 - val_accuracy: 0.9474\n",
      "Epoch 57/100\n",
      "18/18 [==============================] - 0s 5ms/step - loss: 0.2896 - accuracy: 0.8782 - val_loss: 0.2036 - val_accuracy: 0.8947\n",
      "Epoch 58/100\n",
      "18/18 [==============================] - 0s 7ms/step - loss: 0.2797 - accuracy: 0.8782 - val_loss: 0.1492 - val_accuracy: 1.0000\n",
      "Epoch 59/100\n",
      "18/18 [==============================] - 0s 5ms/step - loss: 0.2515 - accuracy: 0.8964 - val_loss: 0.1776 - val_accuracy: 0.9474\n",
      "Epoch 60/100\n",
      "18/18 [==============================] - 0s 6ms/step - loss: 0.2719 - accuracy: 0.8782 - val_loss: 0.2267 - val_accuracy: 0.8947\n",
      "Epoch 61/100\n",
      "18/18 [==============================] - 0s 5ms/step - loss: 0.2611 - accuracy: 0.8964 - val_loss: 0.2252 - val_accuracy: 0.8947\n",
      "Epoch 62/100\n",
      "18/18 [==============================] - 0s 5ms/step - loss: 0.2515 - accuracy: 0.9000 - val_loss: 0.1644 - val_accuracy: 1.0000\n",
      "Epoch 63/100\n",
      "18/18 [==============================] - 0s 5ms/step - loss: 0.2794 - accuracy: 0.8800 - val_loss: 0.1812 - val_accuracy: 0.8947\n",
      "Epoch 64/100\n",
      "18/18 [==============================] - 0s 5ms/step - loss: 0.2660 - accuracy: 0.8873 - val_loss: 0.2537 - val_accuracy: 0.8421\n",
      "Epoch 65/100\n",
      "18/18 [==============================] - 0s 6ms/step - loss: 0.3026 - accuracy: 0.8727 - val_loss: 0.1997 - val_accuracy: 0.8947\n",
      "Epoch 66/100\n",
      "18/18 [==============================] - 0s 5ms/step - loss: 0.2739 - accuracy: 0.8927 - val_loss: 0.2458 - val_accuracy: 0.8947\n",
      "Epoch 67/100\n",
      "18/18 [==============================] - 0s 6ms/step - loss: 0.2525 - accuracy: 0.8964 - val_loss: 0.2177 - val_accuracy: 0.8947\n",
      "Epoch 68/100\n",
      "18/18 [==============================] - 0s 6ms/step - loss: 0.2638 - accuracy: 0.8945 - val_loss: 0.1541 - val_accuracy: 0.8947\n",
      "Epoch 69/100\n",
      "18/18 [==============================] - 0s 5ms/step - loss: 0.2829 - accuracy: 0.8800 - val_loss: 0.1002 - val_accuracy: 1.0000\n",
      "Epoch 70/100\n",
      "18/18 [==============================] - 0s 5ms/step - loss: 0.2697 - accuracy: 0.8800 - val_loss: 0.0860 - val_accuracy: 1.0000\n",
      "Epoch 71/100\n",
      "18/18 [==============================] - 0s 6ms/step - loss: 0.2897 - accuracy: 0.8782 - val_loss: 0.0773 - val_accuracy: 1.0000\n",
      "Epoch 72/100\n",
      "18/18 [==============================] - 0s 5ms/step - loss: 0.2934 - accuracy: 0.8800 - val_loss: 0.0708 - val_accuracy: 1.0000\n",
      "Epoch 73/100\n",
      "18/18 [==============================] - 0s 6ms/step - loss: 0.2398 - accuracy: 0.8964 - val_loss: 0.0780 - val_accuracy: 1.0000\n",
      "Epoch 74/100\n",
      "18/18 [==============================] - 0s 7ms/step - loss: 0.2735 - accuracy: 0.8927 - val_loss: 0.1036 - val_accuracy: 1.0000\n",
      "Epoch 75/100\n",
      "18/18 [==============================] - 0s 5ms/step - loss: 0.2444 - accuracy: 0.9091 - val_loss: 0.0877 - val_accuracy: 1.0000\n",
      "Epoch 76/100\n",
      "18/18 [==============================] - 0s 6ms/step - loss: 0.2748 - accuracy: 0.8909 - val_loss: 0.0811 - val_accuracy: 1.0000\n",
      "Epoch 77/100\n",
      "18/18 [==============================] - 0s 5ms/step - loss: 0.2407 - accuracy: 0.9000 - val_loss: 0.1191 - val_accuracy: 0.9474\n",
      "Epoch 78/100\n",
      "18/18 [==============================] - 0s 5ms/step - loss: 0.2726 - accuracy: 0.8745 - val_loss: 0.1033 - val_accuracy: 1.0000\n",
      "Epoch 79/100\n",
      "18/18 [==============================] - 0s 7ms/step - loss: 0.2693 - accuracy: 0.8855 - val_loss: 0.1029 - val_accuracy: 1.0000\n",
      "Epoch 80/100\n",
      "18/18 [==============================] - 0s 6ms/step - loss: 0.2675 - accuracy: 0.8836 - val_loss: 0.1004 - val_accuracy: 1.0000\n",
      "Epoch 81/100\n",
      "18/18 [==============================] - 0s 5ms/step - loss: 0.3083 - accuracy: 0.8709 - val_loss: 0.2047 - val_accuracy: 0.8421\n",
      "Epoch 82/100\n",
      "18/18 [==============================] - 0s 5ms/step - loss: 0.2543 - accuracy: 0.9055 - val_loss: 0.2021 - val_accuracy: 0.8421\n",
      "Epoch 83/100\n",
      "18/18 [==============================] - 0s 6ms/step - loss: 0.2563 - accuracy: 0.9000 - val_loss: 0.2037 - val_accuracy: 0.8421\n",
      "Epoch 84/100\n",
      "18/18 [==============================] - 0s 6ms/step - loss: 0.2784 - accuracy: 0.8764 - val_loss: 0.1612 - val_accuracy: 0.8947\n",
      "Epoch 85/100\n",
      "18/18 [==============================] - 0s 5ms/step - loss: 0.2796 - accuracy: 0.8855 - val_loss: 0.2137 - val_accuracy: 0.8421\n",
      "Epoch 86/100\n",
      "18/18 [==============================] - 0s 6ms/step - loss: 0.2608 - accuracy: 0.8855 - val_loss: 0.2256 - val_accuracy: 0.8421\n",
      "Epoch 87/100\n",
      "18/18 [==============================] - 0s 5ms/step - loss: 0.2674 - accuracy: 0.8982 - val_loss: 0.2413 - val_accuracy: 0.8947\n",
      "Epoch 88/100\n",
      "18/18 [==============================] - 0s 6ms/step - loss: 0.2819 - accuracy: 0.8855 - val_loss: 0.1222 - val_accuracy: 1.0000\n",
      "Epoch 89/100\n",
      "18/18 [==============================] - 0s 5ms/step - loss: 0.2438 - accuracy: 0.8927 - val_loss: 0.1802 - val_accuracy: 0.8947\n",
      "Epoch 90/100\n",
      "18/18 [==============================] - 0s 5ms/step - loss: 0.3010 - accuracy: 0.8764 - val_loss: 0.1755 - val_accuracy: 0.9474\n",
      "Epoch 91/100\n",
      "18/18 [==============================] - 0s 6ms/step - loss: 0.2493 - accuracy: 0.8945 - val_loss: 0.1325 - val_accuracy: 1.0000\n",
      "Epoch 92/100\n",
      "18/18 [==============================] - 0s 5ms/step - loss: 0.2504 - accuracy: 0.8982 - val_loss: 0.1686 - val_accuracy: 0.9474\n",
      "Epoch 93/100\n",
      "18/18 [==============================] - 0s 5ms/step - loss: 0.2854 - accuracy: 0.8836 - val_loss: 0.1458 - val_accuracy: 1.0000\n",
      "Epoch 94/100\n",
      "18/18 [==============================] - 0s 6ms/step - loss: 0.2909 - accuracy: 0.8836 - val_loss: 0.1512 - val_accuracy: 0.9474\n",
      "Epoch 95/100\n",
      "18/18 [==============================] - 0s 5ms/step - loss: 0.2735 - accuracy: 0.8764 - val_loss: 0.1282 - val_accuracy: 0.9474\n",
      "Epoch 96/100\n",
      "18/18 [==============================] - 0s 5ms/step - loss: 0.2458 - accuracy: 0.8927 - val_loss: 0.1130 - val_accuracy: 0.9474\n",
      "Epoch 97/100\n",
      "18/18 [==============================] - 0s 7ms/step - loss: 0.2726 - accuracy: 0.8764 - val_loss: 0.1011 - val_accuracy: 1.0000\n",
      "Epoch 98/100\n",
      "18/18 [==============================] - 0s 6ms/step - loss: 0.2738 - accuracy: 0.8891 - val_loss: 0.1211 - val_accuracy: 0.9474\n",
      "Epoch 99/100\n",
      "18/18 [==============================] - 0s 6ms/step - loss: 0.2494 - accuracy: 0.8945 - val_loss: 0.1411 - val_accuracy: 0.8947\n",
      "Epoch 100/100\n",
      "18/18 [==============================] - 0s 5ms/step - loss: 0.2663 - accuracy: 0.8927 - val_loss: 0.1632 - val_accuracy: 0.8947\n"
     ]
    },
    {
     "data": {
      "text/plain": [
       "<keras.src.callbacks.History at 0x27db2bb0d90>"
      ]
     },
     "execution_count": 322,
     "metadata": {},
     "output_type": "execute_result"
    }
   ],
   "source": [
    "cancer_predict_model.fit(training_features, training_labels, epochs = 100, validation_data = (testing_features, testing_labels))"
   ]
  },
  {
   "cell_type": "code",
   "execution_count": 150,
   "id": "994bd4de-7971-4253-8efb-0d9acdb7b647",
   "metadata": {},
   "outputs": [
    {
     "name": "stderr",
     "output_type": "stream",
     "text": [
      "C:\\Users\\Student\\AppData\\Local\\Programs\\Python\\Python310\\lib\\site-packages\\keras\\src\\engine\\training.py:3103: UserWarning: You are saving your model as an HDF5 file via `model.save()`. This file format is considered legacy. We recommend using instead the native Keras format, e.g. `model.save('my_model.keras')`.\n",
      "  saving_api.save_model(\n"
     ]
    }
   ],
   "source": [
    "cancer_predict_model.save(\"breast_cancer_model_optimzed.h5\")"
   ]
  },
  {
   "cell_type": "code",
   "execution_count": null,
   "id": "6b20a3b9-730c-475d-b2ea-621b9c0f558f",
   "metadata": {},
   "outputs": [],
   "source": []
  },
  {
   "cell_type": "code",
   "execution_count": null,
   "id": "8b672bb9-03d2-42e4-ab42-e8a87696c624",
   "metadata": {},
   "outputs": [],
   "source": []
  }
 ],
 "metadata": {
  "kernelspec": {
   "display_name": "Python 3 (ipykernel)",
   "language": "python",
   "name": "python3"
  },
  "language_info": {
   "codemirror_mode": {
    "name": "ipython",
    "version": 3
   },
   "file_extension": ".py",
   "mimetype": "text/x-python",
   "name": "python",
   "nbconvert_exporter": "python",
   "pygments_lexer": "ipython3",
   "version": "3.10.0"
  }
 },
 "nbformat": 4,
 "nbformat_minor": 5
}
